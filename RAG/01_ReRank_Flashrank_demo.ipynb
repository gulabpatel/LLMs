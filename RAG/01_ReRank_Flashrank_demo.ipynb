{
  "nbformat": 4,
  "nbformat_minor": 0,
  "metadata": {
    "colab": {
      "provenance": [],
      "authorship_tag": "ABX9TyNWXA/MEMv1Oqj1xqKPO3mH",
      "include_colab_link": true
    },
    "kernelspec": {
      "name": "python3",
      "display_name": "Python 3"
    },
    "language_info": {
      "name": "python"
    }
  },
  "cells": [
    {
      "cell_type": "markdown",
      "metadata": {
        "id": "view-in-github",
        "colab_type": "text"
      },
      "source": [
        "<a href=\"https://colab.research.google.com/github/gulabpatel/LLMs/blob/main/RAG/01_ReRank_Flashrank_demo.ipynb\" target=\"_parent\"><img src=\"https://colab.research.google.com/assets/colab-badge.svg\" alt=\"Open In Colab\"/></a>"
      ]
    },
    {
      "cell_type": "code",
      "execution_count": null,
      "metadata": {
        "id": "5tj3CnzAHAFX"
      },
      "outputs": [],
      "source": [
        "!pip install flashrank"
      ]
    },
    {
      "cell_type": "code",
      "source": [
        "from flashrank.Ranker import Ranker, RerankRequest\n",
        "# Nano (~4MB), blazing fast model & competitive performance (ranking precision).\n",
        "ranker = Ranker()\n",
        "\n",
        "# or\n",
        "\n",
        "# # Small (~34MB), slightly slower & best performance (ranking precision).\n",
        "# ranker = Ranker(model_name=\"ms-marco-MiniLM-L-12-v2\", cache_dir=\"/opt\")\n",
        "\n",
        "# or\n",
        "\n",
        "# # Medium (~110MB), slower model with best zeroshot performance (ranking precision) on out of domain data.\n",
        "# ranker = Ranker(model_name=\"rank-T5-flan\", cache_dir=\"/opt\")\n",
        "\n",
        "# or\n",
        "\n",
        "# # Medium (~150MB), slower model with competitive performance (ranking precision) for 100+ languages  (don't use for english)\n",
        "# ranker = Ranker(model_name=\"ms-marco-MultiBERT-L-12\", cache_dir=\"/opt\")"
      ],
      "metadata": {
        "id": "OKUD3R7zHL8H"
      },
      "execution_count": 4,
      "outputs": []
    },
    {
      "cell_type": "code",
      "source": [
        "# Metadata is optional, Id can be your DB ids from your retrieval stage or simple numeric indices.\n",
        "query = \"How to speedup LLMs?\"\n",
        "passages = [\n",
        "   {\n",
        "      \"id\":1,\n",
        "      \"text\":\"Introduce *lookahead decoding*: - a parallel decoding algo to accelerate LLM inference - w/o the need for a draft model or a data store - linearly decreases # decoding steps relative to log(FLOPs) used per decoding step.\",\n",
        "      \"meta\": {\"additional\": \"info1\"}\n",
        "   },\n",
        "   {\n",
        "      \"id\":2,\n",
        "      \"text\":\"LLM inference efficiency will be one of the most crucial topics for both industry and academia, simply because the more efficient you are, the more $$$ you will save. vllm project is a must-read for this direction, and now they have just released the paper\",\n",
        "      \"meta\": {\"additional\": \"info2\"}\n",
        "   },\n",
        "   {\n",
        "      \"id\":3,\n",
        "      \"text\":\"There are many ways to increase LLM inference throughput (tokens/second) and decrease memory footprint, sometimes at the same time. Here are a few methods I’ve found effective when working with Llama 2. These methods are all well-integrated with Hugging Face. This list is far from exhaustive; some of these techniques can be used in combination with each other and there are plenty of others to try. - Bettertransformer (Optimum Library): Simply call `model.to_bettertransformer()` on your Hugging Face model for a modest improvement in tokens per second. - Fp4 Mixed-Precision (Bitsandbytes): Requires minimal configuration and dramatically reduces the model's memory footprint. - AutoGPTQ: Time-consuming but leads to a much smaller model and faster inference. The quantization is a one-time cost that pays off in the long run.\",\n",
        "      \"meta\": {\"additional\": \"info3\"}\n",
        "\n",
        "   },\n",
        "   {\n",
        "      \"id\":4,\n",
        "      \"text\":\"Ever want to make your LLM inference go brrrrr but got stuck at implementing speculative decoding and finding the suitable draft model? No more pain! Thrilled to unveil Medusa, a simple framework that removes the annoying draft model while getting 2x speedup.\",\n",
        "      \"meta\": {\"additional\": \"info4\"}\n",
        "   },\n",
        "   {\n",
        "      \"id\":5,\n",
        "      \"text\":\"vLLM is a fast and easy-to-use library for LLM inference and serving. vLLM is fast with: State-of-the-art serving throughput Efficient management of attention key and value memory with PagedAttention Continuous batching of incoming requests Optimized CUDA kernels\",\n",
        "      \"meta\": {\"additional\": \"info5\"}\n",
        "   }\n",
        "]\n",
        "\n",
        "rerankrequest = RerankRequest(query=query, passages=passages)\n",
        "results = ranker.rerank(rerankrequest)\n",
        "results"
      ],
      "metadata": {
        "colab": {
          "base_uri": "https://localhost:8080/"
        },
        "id": "CGeTLBXMHdYh",
        "outputId": "16c15182-d52f-48ba-f926-892e999e15c3"
      },
      "execution_count": 7,
      "outputs": [
        {
          "output_type": "execute_result",
          "data": {
            "text/plain": [
              "[{'id': 4,\n",
              "  'text': 'Ever want to make your LLM inference go brrrrr but got stuck at implementing speculative decoding and finding the suitable draft model? No more pain! Thrilled to unveil Medusa, a simple framework that removes the annoying draft model while getting 2x speedup.',\n",
              "  'meta': {'additional': 'info4'},\n",
              "  'score': 0.018163264},\n",
              " {'id': 5,\n",
              "  'text': 'vLLM is a fast and easy-to-use library for LLM inference and serving. vLLM is fast with: State-of-the-art serving throughput Efficient management of attention key and value memory with PagedAttention Continuous batching of incoming requests Optimized CUDA kernels',\n",
              "  'meta': {'additional': 'info5'},\n",
              "  'score': 0.013987866},\n",
              " {'id': 3,\n",
              "  'text': \"There are many ways to increase LLM inference throughput (tokens/second) and decrease memory footprint, sometimes at the same time. Here are a few methods I’ve found effective when working with Llama 2. These methods are all well-integrated with Hugging Face. This list is far from exhaustive; some of these techniques can be used in combination with each other and there are plenty of others to try. - Bettertransformer (Optimum Library): Simply call `model.to_bettertransformer()` on your Hugging Face model for a modest improvement in tokens per second. - Fp4 Mixed-Precision (Bitsandbytes): Requires minimal configuration and dramatically reduces the model's memory footprint. - AutoGPTQ: Time-consuming but leads to a much smaller model and faster inference. The quantization is a one-time cost that pays off in the long run.\",\n",
              "  'meta': {'additional': 'info3'},\n",
              "  'score': 0.00091874925},\n",
              " {'id': 1,\n",
              "  'text': 'Introduce *lookahead decoding*: - a parallel decoding algo to accelerate LLM inference - w/o the need for a draft model or a data store - linearly decreases # decoding steps relative to log(FLOPs) used per decoding step.',\n",
              "  'meta': {'additional': 'info1'},\n",
              "  'score': 0.00076141005},\n",
              " {'id': 2,\n",
              "  'text': 'LLM inference efficiency will be one of the most crucial topics for both industry and academia, simply because the more efficient you are, the more $$$ you will save. vllm project is a must-read for this direction, and now they have just released the paper',\n",
              "  'meta': {'additional': 'info2'},\n",
              "  'score': 0.0002851765}]"
            ]
          },
          "metadata": {},
          "execution_count": 7
        }
      ]
    }
  ]
}