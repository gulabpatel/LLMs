{
  "cells": [
    {
      "cell_type": "markdown",
      "metadata": {
        "id": "view-in-github",
        "colab_type": "text"
      },
      "source": [
        "<a href=\"https://colab.research.google.com/github/gulabpatel/LLMs/blob/main/LangChain/Prompting/03_Chain_of_Abstraction_agent.ipynb\" target=\"_parent\"><img src=\"https://colab.research.google.com/assets/colab-badge.svg\" alt=\"Open In Colab\"/></a>"
      ]
    },
    {
      "cell_type": "markdown",
      "metadata": {
        "id": "AbhbgVg7nqwR"
      },
      "source": [
        "# Chain-of-Abstraction LlamaPack\n",
        "\n",
        "<a href=\"https://colab.research.google.com/github/run-llama/llama_index/blob/main/docs/docs/examples/agent/coa_agent.ipynb\" target=\"_parent\"><img src=\"https://colab.research.google.com/assets/colab-badge.svg\" alt=\"Open In Colab\"/></a>\n",
        "\n",
        "The chain-of-abstraction (CoA) LlamaPack implements a generalized version of the strategy decsribed in the [original CoA paper](https://arxiv.org/abs/2401.17464).\n",
        "\n",
        "By prompting the LLM to write function calls in a chain-of-thought format, we can execute both simple and complex combinations of function calls needed to execute a task.\n",
        "\n",
        "The LLM is prompted to write a response containing function calls, for example, a CoA plan might look like:\n",
        "\n",
        "```\n",
        "After buying the apples, Sally has [FUNC add(3, 2) = y1] apples.\n",
        "Then, the wizard casts a spell to multiply the number of apples by 3,\n",
        "resulting in [FUNC multiply(y1, 3) = y2] apples.\n",
        "```\n",
        "\n",
        "From there, the function calls can be parsed into a dependency graph, and executed.\n",
        "\n",
        "Then, the values in the CoA are replaced with their actual results.\n",
        "\n",
        "As an extension to the original paper, we also run the LLM a final time, to rewrite the response in a more readable and user-friendly way.\n",
        "\n",
        "**NOTE:** In the original paper, the authors fine-tuned an LLM specifically for this, and also for specific functions and datasets. As such, only capable LLMs (OpenAI, Anthropic, etc.) will be (hopefully) reliable for this without finetuning."
      ]
    },
    {
      "cell_type": "markdown",
      "metadata": {
        "id": "Jgfv16EwnqwT"
      },
      "source": [
        "## Setup\n",
        "\n",
        "First, lets install the pack, along with some extra dependencies."
      ]
    },
    {
      "cell_type": "code",
      "execution_count": null,
      "metadata": {
        "id": "j2HpVh-jnqwU"
      },
      "outputs": [],
      "source": [
        "%pip install llama-index-core llama-index-llms-openai llama-index-embeddings-openai\n",
        "%pip install llama-index-packs-agents-coa llama_parse llama-index-readers-file"
      ]
    },
    {
      "cell_type": "code",
      "execution_count": null,
      "metadata": {
        "id": "wbjUVH7UnqwV"
      },
      "outputs": [],
      "source": [
        "import os\n",
        "\n",
        "os.environ[\"OPENAI_API_KEY\"] = \"sk-...\"\n",
        "\n",
        "import nest_asyncio\n",
        "\n",
        "nest_asyncio.apply()"
      ]
    },
    {
      "cell_type": "code",
      "execution_count": null,
      "metadata": {
        "id": "Y4o2tuWTnqwV"
      },
      "outputs": [],
      "source": [
        "from llama_index.core import Settings\n",
        "from llama_index.embeddings.openai import OpenAIEmbedding\n",
        "from llama_index.llms.openai import OpenAI\n",
        "\n",
        "Settings.embed_model = OpenAIEmbedding(\n",
        "    model=\"text-embedding-3-small\", embed_batch_size=256\n",
        ")\n",
        "Settings.llm = OpenAI(model=\"gpt-4-turbo\", temperature=0.1)"
      ]
    },
    {
      "cell_type": "markdown",
      "metadata": {
        "id": "2n8B4uPxnqwV"
      },
      "source": [
        "## Tools setup\n",
        "\n",
        "Next, we need some tools for our agent to use.\n",
        "\n",
        "In this example, we use some classic SEC 10K fillings."
      ]
    },
    {
      "cell_type": "code",
      "execution_count": null,
      "metadata": {
        "id": "EQcDFg4pnqwV"
      },
      "outputs": [],
      "source": [
        "!mkdir -p 'data/10k/'\n",
        "!wget 'https://raw.githubusercontent.com/run-llama/llama_index/main/docs/docs/examples/data/10k/uber_2021.pdf' -O 'data/10k/uber_2021.pdf'\n",
        "!wget 'https://raw.githubusercontent.com/run-llama/llama_index/main/docs/docs/examples/data/10k/lyft_2021.pdf' -O 'data/10k/lyft_2021.pdf'"
      ]
    },
    {
      "cell_type": "code",
      "execution_count": null,
      "metadata": {
        "id": "8PI5rlwNnqwV"
      },
      "outputs": [],
      "source": [
        "from llama_index.core import StorageContext, load_index_from_storage\n",
        "\n",
        "try:\n",
        "    storage_context = StorageContext.from_defaults(\n",
        "        persist_dir=\"./storage/lyft\"\n",
        "    )\n",
        "    lyft_index = load_index_from_storage(storage_context)\n",
        "\n",
        "    storage_context = StorageContext.from_defaults(\n",
        "        persist_dir=\"./storage/uber\"\n",
        "    )\n",
        "    uber_index = load_index_from_storage(storage_context)\n",
        "\n",
        "    index_loaded = True\n",
        "except:\n",
        "    index_loaded = False"
      ]
    },
    {
      "cell_type": "code",
      "execution_count": null,
      "metadata": {
        "id": "oqefcvH1nqwW"
      },
      "outputs": [],
      "source": [
        "from llama_parse import LlamaParse\n",
        "from llama_index.core import SimpleDirectoryReader, VectorStoreIndex\n",
        "\n",
        "# (OPTIONAL) -- Use LlamaParse for loading PDF documents\n",
        "file_extractor = {\n",
        "    \".pdf\": LlamaParse(\n",
        "        result_type=\"markdown\",\n",
        "        api_key=\"llx-...\",\n",
        "    )\n",
        "}\n",
        "\n",
        "if not index_loaded:\n",
        "    # load data\n",
        "    lyft_docs = SimpleDirectoryReader(\n",
        "        input_files=[\"./data/10k/lyft_2021.pdf\"],\n",
        "        file_extractor=file_extractor,\n",
        "    ).load_data()\n",
        "    uber_docs = SimpleDirectoryReader(\n",
        "        input_files=[\"./data/10k/uber_2021.pdf\"],\n",
        "        file_extractor=file_extractor,\n",
        "    ).load_data()\n",
        "\n",
        "    # build index\n",
        "    lyft_index = VectorStoreIndex.from_documents(lyft_docs)\n",
        "    uber_index = VectorStoreIndex.from_documents(uber_docs)\n",
        "\n",
        "    # persist index\n",
        "    lyft_index.storage_context.persist(persist_dir=\"./storage/lyft\")\n",
        "    uber_index.storage_context.persist(persist_dir=\"./storage/uber\")"
      ]
    },
    {
      "cell_type": "code",
      "execution_count": null,
      "metadata": {
        "id": "N-HDY3FqnqwW"
      },
      "outputs": [],
      "source": [
        "from llama_index.core.tools import QueryEngineTool\n",
        "\n",
        "lyft_engine = lyft_index.as_query_engine(similarity_top_k=2)\n",
        "uber_engine = uber_index.as_query_engine(similarity_top_k=2)\n",
        "\n",
        "query_engine_tools = [\n",
        "    QueryEngineTool.from_defaults(\n",
        "        query_engine=lyft_engine,\n",
        "        name=\"lyft_10k\",\n",
        "        description=(\n",
        "            \"Provides information about Lyft financials for year 2021. \"\n",
        "            \"Use a detailed plain text question as input to the tool.\"\n",
        "        ),\n",
        "    ),\n",
        "    QueryEngineTool.from_defaults(\n",
        "        query_engine=uber_engine,\n",
        "        name=\"uber_10k\",\n",
        "        description=(\n",
        "            \"Provides information about Uber financials for year 2021. \"\n",
        "            \"Use a detailed plain text question as input to the tool.\"\n",
        "        ),\n",
        "    ),\n",
        "]"
      ]
    },
    {
      "cell_type": "markdown",
      "metadata": {
        "id": "C0zKoHSanqwW"
      },
      "source": [
        "## Run the CoAAgentPack\n",
        "\n",
        "With our tools ready, we can now run the agent pack!"
      ]
    },
    {
      "cell_type": "code",
      "execution_count": null,
      "metadata": {
        "id": "Mry6J74knqwW"
      },
      "outputs": [],
      "source": [
        "from llama_index.packs.agents_coa import CoAAgentPack\n",
        "\n",
        "pack = CoAAgentPack(tools=query_engine_tools, llm=Settings.llm)"
      ]
    },
    {
      "cell_type": "code",
      "execution_count": null,
      "metadata": {
        "id": "gTPZhD3vnqwX",
        "outputId": "c81562da-9090-461d-89ef-c7f09fcb8f70"
      },
      "outputs": [
        {
          "name": "stdout",
          "output_type": "stream",
          "text": [
            "==== Available Parsed Functions ====\n",
            "def lyft_10k(input: string):\n",
            "   \"\"\"Provides information about Lyft financials for year 2021. Use a detailed plain text question as input to the tool.\"\"\"\n",
            "    ...\n",
            "def uber_10k(input: string):\n",
            "   \"\"\"Provides information about Uber financials for year 2021. Use a detailed plain text question as input to the tool.\"\"\"\n",
            "    ...\n",
            "==== Generated Chain of Abstraction ====\n",
            "To compare Uber's revenue growth to Lyft's in 2021, we need to obtain the revenue growth figures for both companies for that year.\n",
            "\n",
            "1. Retrieve Uber's revenue growth for 2021 by querying the Uber financial tool with a specific question about revenue growth:\n",
            "   - [FUNC uber_10k(\"What was Uber's revenue growth in 2021?\") = y1]\n",
            "\n",
            "2. Retrieve Lyft's revenue growth for 2021 by querying the Lyft financial tool with a similar question about revenue growth:\n",
            "   - [FUNC lyft_10k(\"What was Lyft's revenue growth in 2021?\") = y2]\n",
            "\n",
            "3. Compare the revenue growth figures obtained (y1 and y2) to determine which company had higher growth in 2021. This comparison will be done by the reader after the function calls have been executed.\n",
            "==== Executing uber_10k with inputs [\"What was Uber's revenue growth in 2021?\"] ====\n",
            "==== Executing lyft_10k with inputs [\"What was Lyft's revenue growth in 2021?\"] ====\n"
          ]
        }
      ],
      "source": [
        "response = pack.run(\"How did Ubers revenue growth compare to Lyfts in 2021?\")"
      ]
    },
    {
      "cell_type": "code",
      "execution_count": null,
      "metadata": {
        "id": "YjdFrw_WnqwX",
        "outputId": "01026715-86a1-44bd-fa6b-236c9327c84a"
      },
      "outputs": [
        {
          "name": "stdout",
          "output_type": "stream",
          "text": [
            "In 2021, Uber's revenue growth was higher than Lyft's. Uber's revenue grew by 57% compared to 2020, while Lyft's revenue increased by 36% compared to the prior year.\n"
          ]
        }
      ],
      "source": [
        "print(str(response))"
      ]
    },
    {
      "cell_type": "markdown",
      "metadata": {
        "id": "LZ__PUpJnqwY"
      },
      "source": [
        "Lets recap the logs we just saw\n",
        "- The tools get parsed into python-like definitions\n",
        "- The agent is prompted to generate a CoA plan\n",
        "- The function calls are parsed out of the plan and executed\n",
        "- The values in the plan are filled in\n",
        "- The agent generates a final response"
      ]
    },
    {
      "cell_type": "markdown",
      "metadata": {
        "id": "mt743oKbnqwY"
      },
      "source": [
        "## [Advanced] -- Using the CoAAgentWorker\n",
        "\n",
        "By installing the CoAAgentPack, you also get access to the underlying agent worker. With this, you can setup the agent manually, as well as customize the prompts and output parsing."
      ]
    },
    {
      "cell_type": "code",
      "execution_count": null,
      "metadata": {
        "id": "Qwi6sa4EnqwY"
      },
      "outputs": [],
      "source": [
        "from llama_index.packs.agents_coa import CoAAgentWorker\n",
        "from llama_index.core.agents import AgentRunner\n",
        "\n",
        "worker = CoAAgentWorker.from_tools(\n",
        "    tools=query_engine_tools,\n",
        "    llm=Settings.llm,\n",
        "    verbose=True,\n",
        ")\n",
        "\n",
        "agent = AgentRunner(worker)"
      ]
    },
    {
      "cell_type": "markdown",
      "metadata": {
        "id": "1C5gKjkGnqwY"
      },
      "source": [
        "## [Advanced] -- How does this actually work?\n",
        "\n",
        "So, under the hood we are prompting the LLM to first output the CoA, then we parse it and run functions, then we refine all that into a final output.\n",
        "\n",
        "First, we parse the tools into python-like function defintions by parsing `tool.metadata.fn_schema_str`, along with the tool name and description.\n",
        "\n",
        "You can find that code [in the utils]()."
      ]
    },
    {
      "cell_type": "markdown",
      "metadata": {
        "id": "JgdeHau9nqwY"
      },
      "source": [
        "What this looks like is we have a prompt like this:\n",
        "\n",
        "```python\n",
        "REASONING_PROMPT_TEMPALTE = \"\"\"Generate an abstract plan of reasoning using placeholders for the specific values and function calls needed.\n",
        "The placeholders should be labeled y1, y2, etc.\n",
        "Function calls should be represented as inline strings like [FUNC {{function_name}}({{input1}}, {{input2}}, ...) = {{output_placeholder}}].\n",
        "Assume someone will read the plan after the functions have been executed in order to make a final response.\n",
        "Not every question will require function calls to answer.\n",
        "If you do invoke a function, only use the available functions, do not make up functions.\n",
        "\n",
        "Example:\n",
        "-----------\n",
        "Available functions:\n",
        "\\`\\`\\`python\n",
        "def add(a: int, b: int) -> int:\n",
        "    \\\"\\\"\\\"Add two numbers together.\\\"\\\"\\\"\n",
        "    ...\n",
        "\n",
        "def multiply(a: int, b: int) -> int:\n",
        "    \\\"\\\"\\\"Multiply two numbers together.\\\"\\\"\\\"\n",
        "    ...\n",
        "\\`\\`\\`\n",
        "\n",
        "Question:\n",
        "Sally has 3 apples and buys 2 more. Then magically, a wizard casts a spell that multiplies the number of apples by 3. How many apples does Sally have now?\n",
        "\n",
        "Abstract plan of reasoning:\n",
        "After buying the apples, Sally has [FUNC add(3, 2) = y1] apples. Then, the wizard casts a spell to multiply the number of apples by 3, resulting in [FUNC multiply(y1, 3) = y2] apples.\n",
        "\n",
        "Your Turn:\n",
        "-----------\n",
        "Available functions:\n",
        "\\`\\`\\`python\n",
        "{functions}\n",
        "\\`\\`\\`\n",
        "\n",
        "Question:\n",
        "{question}\n",
        "\n",
        "Abstract plan of reasoning:\n",
        "\"\"\"\n",
        "```\n",
        "\n",
        "This will generate the chain-of-abstraction reasoning."
      ]
    },
    {
      "cell_type": "markdown",
      "metadata": {
        "id": "3dNAjo-_nqwZ"
      },
      "source": [
        "Then, the reasoning is parsed using the [output parser]()."
      ]
    },
    {
      "cell_type": "markdown",
      "metadata": {
        "id": "9oodbnrpnqwZ"
      },
      "source": [
        "After calling the functions and filling in values, we give the LLM a chance to refine the response, using this prompt:\n",
        "\n",
        "```python\n",
        "REFINE_REASONING_PROMPT_TEMPALTE = \"\"\"Generate a response to a question by using a previous abstract plan of reasoning. Use the previous reasoning as context to write a response to the question.\n",
        "\n",
        "Example:\n",
        "-----------\n",
        "Question:\n",
        "Sally has 3 apples and buys 2 more. Then magically, a wizard casts a spell that multiplies the number of apples by 3. How many apples does Sally have now?\n",
        "\n",
        "Previous reasoning:\n",
        "After buying the apples, Sally has [FUNC add(3, 2) = 5] apples. Then, the wizard casts a spell to multiply the number of apples by 3, resulting in [FUNC multiply(5, 3) = 15] apples.\n",
        "\n",
        "Response:\n",
        "After the wizard casts the spell, Sally has 15 apples.\n",
        "\n",
        "Your Turn:\n",
        "-----------\n",
        "Question:\n",
        "{question}\n",
        "\n",
        "Previous reasoning:\n",
        "{prev_reasoning}\n",
        "\n",
        "Response:\n",
        "\"\"\"\n",
        "```"
      ]
    }
  ],
  "metadata": {
    "kernelspec": {
      "display_name": "venv",
      "language": "python",
      "name": "python3"
    },
    "language_info": {
      "codemirror_mode": {
        "name": "ipython",
        "version": 3
      },
      "file_extension": ".py",
      "mimetype": "text/x-python",
      "name": "python",
      "nbconvert_exporter": "python",
      "pygments_lexer": "ipython3"
    },
    "colab": {
      "provenance": [],
      "include_colab_link": true
    }
  },
  "nbformat": 4,
  "nbformat_minor": 0
}