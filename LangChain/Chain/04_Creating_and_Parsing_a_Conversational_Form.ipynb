{
  "nbformat": 4,
  "nbformat_minor": 0,
  "metadata": {
    "colab": {
      "provenance": [],
      "include_colab_link": true
    },
    "kernelspec": {
      "name": "python3",
      "display_name": "Python 3"
    },
    "language_info": {
      "name": "python"
    }
  },
  "cells": [
    {
      "cell_type": "markdown",
      "metadata": {
        "id": "view-in-github",
        "colab_type": "text"
      },
      "source": [
        "<a href=\"https://colab.research.google.com/github/gulabpatel/LLMs/blob/main/LangChain/Chain/04_Creating_and_Parsing_a_Conversational_Form.ipynb\" target=\"_parent\"><img src=\"https://colab.research.google.com/assets/colab-badge.svg\" alt=\"Open In Colab\"/></a>"
      ]
    },
    {
      "cell_type": "code",
      "execution_count": null,
      "metadata": {
        "id": "RRYSu48huSUW"
      },
      "outputs": [],
      "source": [
        "!pip -q install langchain huggingface_hub openai google-search-results tiktoken cohere"
      ]
    },
    {
      "cell_type": "code",
      "source": [
        "import os\n",
        "\n",
        "os.environ[\"OPENAI_API_KEY\"] = \"\""
      ],
      "metadata": {
        "id": "dNA4TsHpu6OM"
      },
      "execution_count": null,
      "outputs": []
    },
    {
      "cell_type": "code",
      "source": [
        "!pip show langchain"
      ],
      "metadata": {
        "id": "J-KFB7J_u_3L"
      },
      "execution_count": null,
      "outputs": []
    },
    {
      "cell_type": "markdown",
      "source": [
        "# Making a Conversational Form"
      ],
      "metadata": {
        "id": "RwyDfYSkfx9U"
      }
    },
    {
      "cell_type": "markdown",
      "source": [
        "### Setting up Conversation Filtering\n",
        "\n"
      ],
      "metadata": {
        "id": "HqwsGJDhvAQ5"
      }
    },
    {
      "cell_type": "code",
      "source": [
        "from langchain.chat_models import ChatOpenAI\n",
        "from langchain.chains import create_tagging_chain, create_tagging_chain_pydantic\n",
        "from langchain.prompts import ChatPromptTemplate\n",
        "\n",
        "from enum import Enum\n",
        "from pydantic import BaseModel, Field"
      ],
      "metadata": {
        "id": "JgZPviRbJQoq"
      },
      "execution_count": null,
      "outputs": []
    },
    {
      "cell_type": "code",
      "source": [
        "llm = ChatOpenAI(temperature=0, model=\"gpt-3.5-turbo-0613\")"
      ],
      "metadata": {
        "id": "tYv3CT8aJUTE"
      },
      "execution_count": null,
      "outputs": []
    },
    {
      "cell_type": "code",
      "source": [
        "class PersonalDetails(BaseModel):\n",
        "    first_name: str = Field(\n",
        "        ...,\n",
        "        description=\"This is the first name of the user.\",\n",
        "    )\n",
        "    last_name: str = Field(\n",
        "        ...,\n",
        "        description=\"This is the last name or surname of the user.\",\n",
        "    )\n",
        "    full_name: str = Field(\n",
        "        ...,\n",
        "        description=\"Is the full name of the user \",\n",
        "    )\n",
        "    city: str = Field(\n",
        "        ...,\n",
        "        description=\"The name of the city where someone lives\",\n",
        "    )\n",
        "    email: str = Field(\n",
        "        ...,\n",
        "        description=\"an email address that the person associates as theirs\",\n",
        "    )\n",
        "    language: str = Field(\n",
        "        ..., enum=[\"spanish\", \"english\", \"french\", \"german\", \"italian\"]\n",
        "    )"
      ],
      "metadata": {
        "id": "76DeeTs1Jqli"
      },
      "execution_count": null,
      "outputs": []
    },
    {
      "cell_type": "code",
      "source": [
        "chain = create_tagging_chain_pydantic(PersonalDetails, llm)"
      ],
      "metadata": {
        "id": "c5H6PmOQpWOa"
      },
      "execution_count": null,
      "outputs": []
    },
    {
      "cell_type": "code",
      "source": [
        "test_string = \"Hi my name is David Jones and I live in Melbourne Australia.\""
      ],
      "metadata": {
        "id": "KzS3tpxjKEWv"
      },
      "execution_count": null,
      "outputs": []
    },
    {
      "cell_type": "code",
      "source": [
        "res = chain.run(test_string)"
      ],
      "metadata": {
        "id": "R3sIxlFKpWSG"
      },
      "execution_count": null,
      "outputs": []
    },
    {
      "cell_type": "code",
      "source": [
        "res"
      ],
      "metadata": {
        "colab": {
          "base_uri": "https://localhost:8080/"
        },
        "id": "Py4SQ4ZMKEZF",
        "outputId": "9459d701-80d4-48a1-fd96-78687d87e7b6"
      },
      "execution_count": null,
      "outputs": [
        {
          "output_type": "execute_result",
          "data": {
            "text/plain": [
              "PersonalDetails(first_name='David', last_name='Jones', full_name='David Jones', city='Melbourne', email='', language='english')"
            ]
          },
          "metadata": {},
          "execution_count": 11
        }
      ]
    },
    {
      "cell_type": "code",
      "source": [
        "test_string_02 = \"Hi my name is Chatree Kongsuwan  and I live in Bangkok. you can contact me at chatree@gmail.com\""
      ],
      "metadata": {
        "id": "FSQTCd1LKEa6"
      },
      "execution_count": null,
      "outputs": []
    },
    {
      "cell_type": "code",
      "source": [
        "res = chain.run(test_string_02)\n",
        "res"
      ],
      "metadata": {
        "colab": {
          "base_uri": "https://localhost:8080/"
        },
        "id": "VdYuk7mYKEdN",
        "outputId": "81fa0ede-cbe7-4313-f931-b899381c7da8"
      },
      "execution_count": null,
      "outputs": [
        {
          "output_type": "execute_result",
          "data": {
            "text/plain": [
              "PersonalDetails(first_name='Chatree', last_name='Kongsuwan', full_name='Chatree Kongsuwan', city='Bangkok', email='chatree@gmail.com', language='english')"
            ]
          },
          "metadata": {},
          "execution_count": 13
        }
      ]
    },
    {
      "cell_type": "code",
      "source": [
        "res.email"
      ],
      "metadata": {
        "colab": {
          "base_uri": "https://localhost:8080/",
          "height": 35
        },
        "id": "8lN8hd3zKEfB",
        "outputId": "e31dad99-15f9-43b9-abdb-41c9f2da1cd8"
      },
      "execution_count": null,
      "outputs": [
        {
          "output_type": "execute_result",
          "data": {
            "text/plain": [
              "'chatree@gmail.com'"
            ],
            "application/vnd.google.colaboratory.intrinsic+json": {
              "type": "string"
            }
          },
          "metadata": {},
          "execution_count": 14
        }
      ]
    },
    {
      "cell_type": "code",
      "source": [
        "test_string_03 = \"My email is chatree@gmail.com but my brother's is dave@gmail.com\""
      ],
      "metadata": {
        "id": "E-sqRRO7KEg1"
      },
      "execution_count": null,
      "outputs": []
    },
    {
      "cell_type": "code",
      "source": [
        "res = chain.run(test_string_03)\n",
        "res"
      ],
      "metadata": {
        "colab": {
          "base_uri": "https://localhost:8080/"
        },
        "id": "_Ro9U6p6Mo64",
        "outputId": "6bc09d1d-335e-4807-b6a8-0bec44b8100a"
      },
      "execution_count": null,
      "outputs": [
        {
          "output_type": "execute_result",
          "data": {
            "text/plain": [
              "PersonalDetails(first_name='', last_name='', full_name='', city='', email='chatree@gmail.com', language='english')"
            ]
          },
          "metadata": {},
          "execution_count": 16
        }
      ]
    },
    {
      "cell_type": "markdown",
      "source": [
        "## Doing the full thing in a natural conversation"
      ],
      "metadata": {
        "id": "SmVukHs6NJak"
      }
    },
    {
      "cell_type": "code",
      "source": [
        "user_123_personal_details = PersonalDetails(first_name=\"\",\n",
        "                                last_name=\"\",\n",
        "                                full_name=\"\",\n",
        "                                city=\"\",\n",
        "                                email=\"\",\n",
        "                                language=\"\")"
      ],
      "metadata": {
        "id": "Gh5cNlpNNNdp"
      },
      "execution_count": null,
      "outputs": []
    },
    {
      "cell_type": "code",
      "source": [
        "user_123_personal_details"
      ],
      "metadata": {
        "colab": {
          "base_uri": "https://localhost:8080/"
        },
        "id": "mmIjQAWGNoDN",
        "outputId": "85f25332-5d57-45b7-a47a-cd0fe001d8b5"
      },
      "execution_count": null,
      "outputs": [
        {
          "output_type": "execute_result",
          "data": {
            "text/plain": [
              "PersonalDetails(first_name='', last_name='', full_name='', city='', email='', language='')"
            ]
          },
          "metadata": {},
          "execution_count": 18
        }
      ]
    },
    {
      "cell_type": "code",
      "source": [
        "#\n",
        "def check_what_is_empty(user_peronal_details):\n",
        "    ask_for = []\n",
        "    # Check if fields are empty\n",
        "    for field, value in user_peronal_details.dict().items():\n",
        "        if value in [None, \"\", 0]:  # You can add other 'empty' conditions as per your requirements\n",
        "            print(f\"Field '{field}' is empty.\")\n",
        "            ask_for.append(f'{field}')\n",
        "    return ask_for"
      ],
      "metadata": {
        "id": "QBre-nGGOHtf"
      },
      "execution_count": null,
      "outputs": []
    },
    {
      "cell_type": "code",
      "source": [
        "ask_for = check_what_is_empty(user_123_personal_details)\n",
        "ask_for"
      ],
      "metadata": {
        "colab": {
          "base_uri": "https://localhost:8080/"
        },
        "id": "a5tKKXQTOhFc",
        "outputId": "cb518de2-c052-41c1-a93d-c4f60df00bbe"
      },
      "execution_count": null,
      "outputs": [
        {
          "output_type": "stream",
          "name": "stdout",
          "text": [
            "Field 'first_name' is empty.\n",
            "Field 'last_name' is empty.\n",
            "Field 'full_name' is empty.\n",
            "Field 'city' is empty.\n",
            "Field 'email' is empty.\n",
            "Field 'language' is empty.\n"
          ]
        },
        {
          "output_type": "execute_result",
          "data": {
            "text/plain": [
              "['first_name', 'last_name', 'full_name', 'city', 'email', 'language']"
            ]
          },
          "metadata": {},
          "execution_count": 20
        }
      ]
    },
    {
      "cell_type": "code",
      "source": [
        "## checking the response and adding it\n",
        "def add_non_empty_details(current_details: PersonalDetails, new_details: PersonalDetails):\n",
        "    non_empty_details = {k: v for k, v in new_details.dict().items() if v not in [None, \"\"]}\n",
        "    updated_details = current_details.copy(update=non_empty_details)\n",
        "    return updated_details"
      ],
      "metadata": {
        "id": "kUJYH-KJQb8h"
      },
      "execution_count": null,
      "outputs": []
    },
    {
      "cell_type": "code",
      "source": [
        "user_123_personal_details = add_non_empty_details(user_123_personal_details,res)"
      ],
      "metadata": {
        "id": "P3LBHBhQPIQZ"
      },
      "execution_count": null,
      "outputs": []
    },
    {
      "cell_type": "code",
      "source": [
        "user_123_personal_details"
      ],
      "metadata": {
        "colab": {
          "base_uri": "https://localhost:8080/"
        },
        "id": "650te5ZjPIRx",
        "outputId": "ea47b3ee-6c65-4424-946f-294d6bc1474a"
      },
      "execution_count": null,
      "outputs": [
        {
          "output_type": "execute_result",
          "data": {
            "text/plain": [
              "PersonalDetails(first_name='', last_name='', full_name='', city='', email='chatree@gmail.com', language='english')"
            ]
          },
          "metadata": {},
          "execution_count": 23
        }
      ]
    },
    {
      "cell_type": "code",
      "source": [
        "res = chain.run(test_string)\n",
        "user_123_personal_details = add_non_empty_details(user_123_personal_details,res)"
      ],
      "metadata": {
        "id": "rNPMWCFxPITz"
      },
      "execution_count": null,
      "outputs": []
    },
    {
      "cell_type": "code",
      "source": [
        "user_123_personal_details"
      ],
      "metadata": {
        "colab": {
          "base_uri": "https://localhost:8080/"
        },
        "id": "xhzoMhiAPIV5",
        "outputId": "c1f251ae-7185-4450-b0ef-06e3d79e4364"
      },
      "execution_count": null,
      "outputs": [
        {
          "output_type": "execute_result",
          "data": {
            "text/plain": [
              "PersonalDetails(first_name='David', last_name='Jones', full_name='David Jones', city='Melbourne', email='chatree@gmail.com', language='english')"
            ]
          },
          "metadata": {},
          "execution_count": 25
        }
      ]
    },
    {
      "cell_type": "code",
      "source": [
        "ask_for = check_what_is_empty(user_123_personal_details)\n",
        "ask_for"
      ],
      "metadata": {
        "colab": {
          "base_uri": "https://localhost:8080/"
        },
        "id": "5ILosK_KPIXb",
        "outputId": "8aec06b9-4c7b-4909-d529-e5b05b8185f5"
      },
      "execution_count": null,
      "outputs": [
        {
          "output_type": "execute_result",
          "data": {
            "text/plain": [
              "[]"
            ]
          },
          "metadata": {},
          "execution_count": 26
        }
      ]
    },
    {
      "cell_type": "code",
      "source": [
        "if not ask_for:\n",
        "    print(\"Thank you we have all the details\")"
      ],
      "metadata": {
        "id": "KfeayAaMPIZQ"
      },
      "execution_count": null,
      "outputs": []
    },
    {
      "cell_type": "markdown",
      "source": [
        "## Putting it together with a LLMChain as well\n"
      ],
      "metadata": {
        "id": "3S_WzUO0yVWY"
      }
    },
    {
      "cell_type": "code",
      "source": [
        "from langchain.chains import TransformChain, LLMChain, SimpleSequentialChain\n",
        "from langchain.prompts import PromptTemplate, ChatPromptTemplate"
      ],
      "metadata": {
        "id": "aE0oO-7mrmCr"
      },
      "execution_count": null,
      "outputs": []
    },
    {
      "cell_type": "code",
      "source": [
        "user_123_personal_details = PersonalDetails(first_name=\"\",\n",
        "                                last_name=\"\",\n",
        "                                full_name=\"\",\n",
        "                                city=\"\",\n",
        "                                email=\"\",\n",
        "                                language=\"\")"
      ],
      "metadata": {
        "id": "qygsMN8cznUy"
      },
      "execution_count": null,
      "outputs": []
    },
    {
      "cell_type": "code",
      "source": [
        "user_123_personal_details"
      ],
      "metadata": {
        "colab": {
          "base_uri": "https://localhost:8080/"
        },
        "outputId": "76bcff09-83c8-440b-8c19-445a05708ed5",
        "id": "zpr5lFJtznVB"
      },
      "execution_count": null,
      "outputs": [
        {
          "output_type": "execute_result",
          "data": {
            "text/plain": [
              "PersonalDetails(first_name='', last_name='', full_name='', city='', email='', language='')"
            ]
          },
          "metadata": {},
          "execution_count": 29
        }
      ]
    },
    {
      "cell_type": "code",
      "source": [
        "llm = ChatOpenAI(temperature=0)"
      ],
      "metadata": {
        "id": "SeBUYDAFW8oo"
      },
      "execution_count": null,
      "outputs": []
    },
    {
      "cell_type": "code",
      "source": [
        "def ask_for_info(ask_for = ['name','age', 'location']):\n",
        "\n",
        "    # prompt template 1\n",
        "    first_prompt = ChatPromptTemplate.from_template(\n",
        "        \"Below is are some things to ask the user for in a coversation way. you should only ask one question at a time even if you don't get all the info \\\n",
        "        don't ask as a list! Don't greet the user! Don't say Hi.Explain you need to get some info. If the ask_for list is empty then thank them and ask how you can help them \\n\\n \\\n",
        "        ### ask_for list: {ask_for}\"\n",
        "    )\n",
        "\n",
        "    # info_gathering_chain\n",
        "    info_gathering_chain = LLMChain(llm=llm, prompt=first_prompt)\n",
        "    ai_chat = info_gathering_chain.run(ask_for=ask_for)\n",
        "    return ai_chat"
      ],
      "metadata": {
        "id": "jaLij6mBs4cs"
      },
      "execution_count": null,
      "outputs": []
    },
    {
      "cell_type": "code",
      "source": [
        "def filter_response(text_input, user_details ):\n",
        "    chain = create_tagging_chain_pydantic(PersonalDetails, llm)\n",
        "    res = chain.run(text_input)\n",
        "    # add filtered info to the\n",
        "    user_details = add_non_empty_details(user_details,res)\n",
        "    ask_for = check_what_is_empty(user_details)\n",
        "    return user_details, ask_for\n"
      ],
      "metadata": {
        "id": "Ui7TQeXiW8sh"
      },
      "execution_count": null,
      "outputs": []
    },
    {
      "cell_type": "code",
      "source": [
        "ask_for_info()"
      ],
      "metadata": {
        "colab": {
          "base_uri": "https://localhost:8080/",
          "height": 35
        },
        "id": "fuJ7Cf_aW8qr",
        "outputId": "72e7605e-d73d-4fc7-fae3-26ee475dd21d"
      },
      "execution_count": null,
      "outputs": [
        {
          "output_type": "execute_result",
          "data": {
            "text/plain": [
              "'Can I please know your name?'"
            ],
            "application/vnd.google.colaboratory.intrinsic+json": {
              "type": "string"
            }
          },
          "metadata": {},
          "execution_count": 33
        }
      ]
    },
    {
      "cell_type": "code",
      "source": [
        "text_input =\"ok My name is Sam\""
      ],
      "metadata": {
        "id": "xzmp33UU0okV"
      },
      "execution_count": null,
      "outputs": []
    },
    {
      "cell_type": "code",
      "source": [
        "user_details, ask_for = filter_response(text_input, user_123_personal_details)"
      ],
      "metadata": {
        "colab": {
          "base_uri": "https://localhost:8080/"
        },
        "id": "KyJ7nYQzzUyC",
        "outputId": "232b3355-18ca-4b24-88e9-1cd557b57a7b"
      },
      "execution_count": null,
      "outputs": [
        {
          "output_type": "stream",
          "name": "stdout",
          "text": [
            "Field 'last_name' is empty.\n",
            "Field 'full_name' is empty.\n",
            "Field 'city' is empty.\n",
            "Field 'email' is empty.\n"
          ]
        }
      ]
    },
    {
      "cell_type": "code",
      "source": [
        "if ask_for:\n",
        "    ai_response = ask_for_info(ask_for)\n",
        "    print(ai_response)\n",
        "else:\n",
        "    print('Everything gathered move to next phase')"
      ],
      "metadata": {
        "colab": {
          "base_uri": "https://localhost:8080/"
        },
        "id": "yAUkadgfzUyD",
        "outputId": "261d6c24-39e7-47d6-854a-697842ea37b8"
      },
      "execution_count": null,
      "outputs": [
        {
          "output_type": "stream",
          "name": "stdout",
          "text": [
            "Can I please have your last name?\n"
          ]
        }
      ]
    },
    {
      "cell_type": "code",
      "source": [
        "text_input =\"My name is Witteveen is Sam Witteveen\"\n",
        "user_details, ask_for = filter_response(text_input, user_details)"
      ],
      "metadata": {
        "colab": {
          "base_uri": "https://localhost:8080/"
        },
        "id": "9V0wSh41zUyD",
        "outputId": "c41bc609-ea07-44c4-ee34-9d6146764449"
      },
      "execution_count": null,
      "outputs": [
        {
          "output_type": "stream",
          "name": "stdout",
          "text": [
            "Field 'city' is empty.\n",
            "Field 'email' is empty.\n"
          ]
        }
      ]
    },
    {
      "cell_type": "code",
      "source": [
        "if ask_for:\n",
        "    ai_response = ask_for_info(ask_for)\n",
        "    print(ai_response)\n",
        "else:\n",
        "    print('Everything gathered move to next phase')"
      ],
      "metadata": {
        "colab": {
          "base_uri": "https://localhost:8080/"
        },
        "id": "ZP9YWSkmzUyD",
        "outputId": "e565ef6d-9371-451e-d850-f2f20bbd8d9b"
      },
      "execution_count": null,
      "outputs": [
        {
          "output_type": "stream",
          "name": "stdout",
          "text": [
            "Can you please provide me with the name of the city you are currently located in?\n"
          ]
        }
      ]
    },
    {
      "cell_type": "code",
      "source": [
        "text_input =\"Sure I mostly live in Singapore\"\n",
        "user_details, ask_for = filter_response(text_input, user_details)"
      ],
      "metadata": {
        "colab": {
          "base_uri": "https://localhost:8080/"
        },
        "id": "LkjloyZBzUyE",
        "outputId": "68be12bf-57e5-4f4d-d618-b1ca89ca2ab2"
      },
      "execution_count": null,
      "outputs": [
        {
          "output_type": "stream",
          "name": "stdout",
          "text": [
            "Field 'email' is empty.\n"
          ]
        }
      ]
    },
    {
      "cell_type": "code",
      "source": [
        "if ask_for:\n",
        "    ai_response = ask_for_info(ask_for)\n",
        "    print(ai_response)\n",
        "else:\n",
        "    print('Everything gathered move to next phase')"
      ],
      "metadata": {
        "colab": {
          "base_uri": "https://localhost:8080/"
        },
        "id": "An6WSaj4W8uV",
        "outputId": "cba6e876-2b6f-4018-945c-c96b9d56c766"
      },
      "execution_count": null,
      "outputs": [
        {
          "output_type": "stream",
          "name": "stdout",
          "text": [
            "Can I please have your email address?\n"
          ]
        }
      ]
    },
    {
      "cell_type": "code",
      "source": [
        "text_input =\"sam@reddragon.ai\"\n",
        "user_details, ask_for = filter_response(text_input, user_details)"
      ],
      "metadata": {
        "id": "bV1g093BW8wK"
      },
      "execution_count": null,
      "outputs": []
    },
    {
      "cell_type": "code",
      "source": [
        "if ask_for:\n",
        "    ai_response = ask_for_info(ask_for)\n",
        "    print(ai_response)\n",
        "else:\n",
        "    print('Everything gathered move to next phase')"
      ],
      "metadata": {
        "colab": {
          "base_uri": "https://localhost:8080/"
        },
        "id": "KYGsGnnOW8z0",
        "outputId": "3507c550-326e-4373-9b35-ea3d98d22253"
      },
      "execution_count": null,
      "outputs": [
        {
          "output_type": "stream",
          "name": "stdout",
          "text": [
            "Everything gathered move to next phase\n"
          ]
        }
      ]
    },
    {
      "cell_type": "code",
      "source": [
        "user_details"
      ],
      "metadata": {
        "colab": {
          "base_uri": "https://localhost:8080/"
        },
        "id": "1_S82QR9W8x-",
        "outputId": "e32b8600-ca05-4a39-9f8a-b4f8d18dae7d"
      },
      "execution_count": null,
      "outputs": [
        {
          "output_type": "execute_result",
          "data": {
            "text/plain": [
              "PersonalDetails(first_name='Sam', last_name='Witteveen', full_name='Sam Witteveen', city='Singapore', email='sam@reddragon.ai', language='english')"
            ]
          },
          "metadata": {},
          "execution_count": 43
        }
      ]
    },
    {
      "cell_type": "code",
      "source": [
        "user_details.city"
      ],
      "metadata": {
        "colab": {
          "base_uri": "https://localhost:8080/",
          "height": 35
        },
        "id": "Ede9sO-_W814",
        "outputId": "ef5960ea-1ede-43ff-aedc-d1e364a8c20f"
      },
      "execution_count": null,
      "outputs": [
        {
          "output_type": "execute_result",
          "data": {
            "text/plain": [
              "'Singapore'"
            ],
            "application/vnd.google.colaboratory.intrinsic+json": {
              "type": "string"
            }
          },
          "metadata": {},
          "execution_count": 44
        }
      ]
    },
    {
      "cell_type": "code",
      "source": [],
      "metadata": {
        "id": "PP1nBl0qMduH"
      },
      "execution_count": null,
      "outputs": []
    }
  ]
}