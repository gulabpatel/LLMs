{
  "nbformat": 4,
  "nbformat_minor": 0,
  "metadata": {
    "colab": {
      "provenance": [],
      "gpuType": "T4",
      "include_colab_link": true
    },
    "kernelspec": {
      "name": "python3",
      "display_name": "Python 3"
    },
    "language_info": {
      "name": "python"
    },
    "accelerator": "GPU"
  },
  "cells": [
    {
      "cell_type": "markdown",
      "metadata": {
        "id": "view-in-github",
        "colab_type": "text"
      },
      "source": [
        "<a href=\"https://colab.research.google.com/github/gulabpatel/LLMs/blob/main/LangChain/Hacks/02_HyDE_RAG_tips_and_Tricks_BGE_Embeddings.ipynb\" target=\"_parent\"><img src=\"https://colab.research.google.com/assets/colab-badge.svg\" alt=\"Open In Colab\"/></a>"
      ]
    },
    {
      "cell_type": "markdown",
      "source": [
        "Code Walkthrough video: https://www.youtube.com/watch?v=v_BnBEubv58&t=125s"
      ],
      "metadata": {
        "id": "72zyVRi6PV3q"
      }
    },
    {
      "cell_type": "code",
      "execution_count": null,
      "metadata": {
        "id": "RRYSu48huSUW",
        "colab": {
          "base_uri": "https://localhost:8080/"
        },
        "outputId": "37b537f3-549d-4111-fa82-de9032c3d470"
      },
      "outputs": [
        {
          "output_type": "stream",
          "name": "stdout",
          "text": [
            "\u001b[2K     \u001b[90m━━━━━━━━━━━━━━━━━━━━━━━━━━━━━━━━━━━━━━━━\u001b[0m \u001b[32m1.9/1.9 MB\u001b[0m \u001b[31m21.1 MB/s\u001b[0m eta \u001b[36m0:00:00\u001b[0m\n",
            "\u001b[2K     \u001b[90m━━━━━━━━━━━━━━━━━━━━━━━━━━━━━━━━━━━━━━━━\u001b[0m \u001b[32m302.0/302.0 kB\u001b[0m \u001b[31m33.4 MB/s\u001b[0m eta \u001b[36m0:00:00\u001b[0m\n",
            "\u001b[2K     \u001b[90m━━━━━━━━━━━━━━━━━━━━━━━━━━━━━━━━━━━━━━━━\u001b[0m \u001b[32m77.0/77.0 kB\u001b[0m \u001b[31m11.5 MB/s\u001b[0m eta \u001b[36m0:00:00\u001b[0m\n",
            "\u001b[2K     \u001b[90m━━━━━━━━━━━━━━━━━━━━━━━━━━━━━━━━━━━━━━━━\u001b[0m \u001b[32m448.1/448.1 kB\u001b[0m \u001b[31m37.8 MB/s\u001b[0m eta \u001b[36m0:00:00\u001b[0m\n",
            "\u001b[2K     \u001b[90m━━━━━━━━━━━━━━━━━━━━━━━━━━━━━━━━━━━━━━━━\u001b[0m \u001b[32m2.0/2.0 MB\u001b[0m \u001b[31m71.9 MB/s\u001b[0m eta \u001b[36m0:00:00\u001b[0m\n",
            "\u001b[2K     \u001b[90m━━━━━━━━━━━━━━━━━━━━━━━━━━━━━━━━━━━━━━━━\u001b[0m \u001b[32m17.6/17.6 MB\u001b[0m \u001b[31m59.3 MB/s\u001b[0m eta \u001b[36m0:00:00\u001b[0m\n",
            "\u001b[2K     \u001b[90m━━━━━━━━━━━━━━━━━━━━━━━━━━━━━━━━━━━━━━━━\u001b[0m \u001b[32m40.1/40.1 kB\u001b[0m \u001b[31m5.1 MB/s\u001b[0m eta \u001b[36m0:00:00\u001b[0m\n",
            "\u001b[2K     \u001b[90m━━━━━━━━━━━━━━━━━━━━━━━━━━━━━━━━━━━━━━━━\u001b[0m \u001b[32m2.4/2.4 MB\u001b[0m \u001b[31m80.8 MB/s\u001b[0m eta \u001b[36m0:00:00\u001b[0m\n",
            "\u001b[2K     \u001b[90m━━━━━━━━━━━━━━━━━━━━━━━━━━━━━━━━━━━━━━━━\u001b[0m \u001b[32m66.3/66.3 kB\u001b[0m \u001b[31m7.9 MB/s\u001b[0m eta \u001b[36m0:00:00\u001b[0m\n",
            "\u001b[2K     \u001b[90m━━━━━━━━━━━━━━━━━━━━━━━━━━━━━━━━━━━━━━━━\u001b[0m \u001b[32m59.5/59.5 kB\u001b[0m \u001b[31m4.4 MB/s\u001b[0m eta \u001b[36m0:00:00\u001b[0m\n",
            "\u001b[2K     \u001b[90m━━━━━━━━━━━━━━━━━━━━━━━━━━━━━━━━━━━━━━━━\u001b[0m \u001b[32m5.4/5.4 MB\u001b[0m \u001b[31m73.4 MB/s\u001b[0m eta \u001b[36m0:00:00\u001b[0m\n",
            "\u001b[2K     \u001b[90m━━━━━━━━━━━━━━━━━━━━━━━━━━━━━━━━━━━━━━━━\u001b[0m \u001b[32m6.2/6.2 MB\u001b[0m \u001b[31m52.4 MB/s\u001b[0m eta \u001b[36m0:00:00\u001b[0m\n",
            "\u001b[2K     \u001b[90m━━━━━━━━━━━━━━━━━━━━━━━━━━━━━━━━━━━━━━━━\u001b[0m \u001b[32m3.8/3.8 MB\u001b[0m \u001b[31m47.6 MB/s\u001b[0m eta \u001b[36m0:00:00\u001b[0m\n",
            "\u001b[2K     \u001b[90m━━━━━━━━━━━━━━━━━━━━━━━━━━━━━━━━━━━━━━━━\u001b[0m \u001b[32m67.3/67.3 kB\u001b[0m \u001b[31m5.9 MB/s\u001b[0m eta \u001b[36m0:00:00\u001b[0m\n",
            "\u001b[?25h  Installing build dependencies ... \u001b[?25l\u001b[?25hdone\n",
            "  Getting requirements to build wheel ... \u001b[?25l\u001b[?25hdone\n",
            "  Preparing metadata (pyproject.toml) ... \u001b[?25l\u001b[?25hdone\n",
            "\u001b[2K     \u001b[90m━━━━━━━━━━━━━━━━━━━━━━━━━━━━━━━━━━━━━━━━\u001b[0m \u001b[32m593.7/593.7 kB\u001b[0m \u001b[31m55.7 MB/s\u001b[0m eta \u001b[36m0:00:00\u001b[0m\n",
            "\u001b[2K     \u001b[90m━━━━━━━━━━━━━━━━━━━━━━━━━━━━━━━━━━━━━━━━\u001b[0m \u001b[32m49.4/49.4 kB\u001b[0m \u001b[31m6.5 MB/s\u001b[0m eta \u001b[36m0:00:00\u001b[0m\n",
            "\u001b[2K     \u001b[90m━━━━━━━━━━━━━━━━━━━━━━━━━━━━━━━━━━━━━━━━\u001b[0m \u001b[32m67.0/67.0 kB\u001b[0m \u001b[31m9.0 MB/s\u001b[0m eta \u001b[36m0:00:00\u001b[0m\n",
            "\u001b[2K     \u001b[90m━━━━━━━━━━━━━━━━━━━━━━━━━━━━━━━━━━━━━━━━\u001b[0m \u001b[32m46.0/46.0 kB\u001b[0m \u001b[31m5.7 MB/s\u001b[0m eta \u001b[36m0:00:00\u001b[0m\n",
            "\u001b[2K     \u001b[90m━━━━━━━━━━━━━━━━━━━━━━━━━━━━━━━━━━━━━━━━\u001b[0m \u001b[32m295.0/295.0 kB\u001b[0m \u001b[31m36.3 MB/s\u001b[0m eta \u001b[36m0:00:00\u001b[0m\n",
            "\u001b[2K     \u001b[90m━━━━━━━━━━━━━━━━━━━━━━━━━━━━━━━━━━━━━━━━\u001b[0m \u001b[32m58.3/58.3 kB\u001b[0m \u001b[31m7.3 MB/s\u001b[0m eta \u001b[36m0:00:00\u001b[0m\n",
            "\u001b[2K     \u001b[90m━━━━━━━━━━━━━━━━━━━━━━━━━━━━━━━━━━━━━━━━\u001b[0m \u001b[32m341.4/341.4 kB\u001b[0m \u001b[31m39.5 MB/s\u001b[0m eta \u001b[36m0:00:00\u001b[0m\n",
            "\u001b[2K     \u001b[90m━━━━━━━━━━━━━━━━━━━━━━━━━━━━━━━━━━━━━━━━\u001b[0m \u001b[32m4.2/4.2 MB\u001b[0m \u001b[31m114.4 MB/s\u001b[0m eta \u001b[36m0:00:00\u001b[0m\n",
            "\u001b[2K     \u001b[90m━━━━━━━━━━━━━━━━━━━━━━━━━━━━━━━━━━━━━━━━\u001b[0m \u001b[32m1.3/1.3 MB\u001b[0m \u001b[31m45.4 MB/s\u001b[0m eta \u001b[36m0:00:00\u001b[0m\n",
            "\u001b[2K     \u001b[90m━━━━━━━━━━━━━━━━━━━━━━━━━━━━━━━━━━━━━━━━\u001b[0m \u001b[32m129.9/129.9 kB\u001b[0m \u001b[31m14.7 MB/s\u001b[0m eta \u001b[36m0:00:00\u001b[0m\n",
            "\u001b[2K     \u001b[90m━━━━━━━━━━━━━━━━━━━━━━━━━━━━━━━━━━━━━━━━\u001b[0m \u001b[32m86.8/86.8 kB\u001b[0m \u001b[31m11.9 MB/s\u001b[0m eta \u001b[36m0:00:00\u001b[0m\n",
            "\u001b[?25h  Building wheel for pypika (pyproject.toml) ... \u001b[?25l\u001b[?25hdone\n",
            "\u001b[2K     \u001b[90m━━━━━━━━━━━━━━━━━━━━━━━━━━━━━━━━━━━━━━━━\u001b[0m \u001b[32m86.0/86.0 kB\u001b[0m \u001b[31m2.6 MB/s\u001b[0m eta \u001b[36m0:00:00\u001b[0m\n",
            "\u001b[?25h  Preparing metadata (setup.py) ... \u001b[?25l\u001b[?25hdone\n",
            "\u001b[2K     \u001b[90m━━━━━━━━━━━━━━━━━━━━━━━━━━━━━━━━━━━━━━━━\u001b[0m \u001b[32m7.7/7.7 MB\u001b[0m \u001b[31m74.4 MB/s\u001b[0m eta \u001b[36m0:00:00\u001b[0m\n",
            "\u001b[2K     \u001b[90m━━━━━━━━━━━━━━━━━━━━━━━━━━━━━━━━━━━━━━━━\u001b[0m \u001b[32m1.3/1.3 MB\u001b[0m \u001b[31m75.4 MB/s\u001b[0m eta \u001b[36m0:00:00\u001b[0m\n",
            "\u001b[2K     \u001b[90m━━━━━━━━━━━━━━━━━━━━━━━━━━━━━━━━━━━━━━━━\u001b[0m \u001b[32m1.3/1.3 MB\u001b[0m \u001b[31m9.6 MB/s\u001b[0m eta \u001b[36m0:00:00\u001b[0m\n",
            "\u001b[?25h  Building wheel for sentence_transformers (setup.py) ... \u001b[?25l\u001b[?25hdone\n",
            "  Preparing metadata (setup.py) ... \u001b[?25l\u001b[?25hdone\n",
            "\u001b[2K     \u001b[90m━━━━━━━━━━━━━━━━━━━━━━━━━━━━━━━━━━━━━━━━\u001b[0m \u001b[32m519.6/519.6 kB\u001b[0m \u001b[31m11.5 MB/s\u001b[0m eta \u001b[36m0:00:00\u001b[0m\n",
            "\u001b[2K     \u001b[90m━━━━━━━━━━━━━━━━━━━━━━━━━━━━━━━━━━━━━━━━\u001b[0m \u001b[32m258.1/258.1 kB\u001b[0m \u001b[31m27.3 MB/s\u001b[0m eta \u001b[36m0:00:00\u001b[0m\n",
            "\u001b[2K     \u001b[90m━━━━━━━━━━━━━━━━━━━━━━━━━━━━━━━━━━━━━━━━\u001b[0m \u001b[32m115.3/115.3 kB\u001b[0m \u001b[31m15.0 MB/s\u001b[0m eta \u001b[36m0:00:00\u001b[0m\n",
            "\u001b[2K     \u001b[90m━━━━━━━━━━━━━━━━━━━━━━━━━━━━━━━━━━━━━━━━\u001b[0m \u001b[32m194.1/194.1 kB\u001b[0m \u001b[31m24.9 MB/s\u001b[0m eta \u001b[36m0:00:00\u001b[0m\n",
            "\u001b[2K     \u001b[90m━━━━━━━━━━━━━━━━━━━━━━━━━━━━━━━━━━━━━━━━\u001b[0m \u001b[32m134.8/134.8 kB\u001b[0m \u001b[31m16.5 MB/s\u001b[0m eta \u001b[36m0:00:00\u001b[0m\n",
            "\u001b[?25h  Building wheel for FlagEmbedding (setup.py) ... \u001b[?25l\u001b[?25hdone\n"
          ]
        }
      ],
      "source": [
        "!pip -q install langchain huggingface_hub openai chromadb tiktoken faiss-cpu\n",
        "!pip -q install sentence_transformers\n",
        "!pip -q install -U FlagEmbedding"
      ]
    },
    {
      "cell_type": "code",
      "source": [
        "!mkdir -p blog_posts\n",
        "!unzip -q /content/langchain_blog_posts.zip -d blog_posts"
      ],
      "metadata": {
        "id": "ZxaKqjAAx6aY"
      },
      "execution_count": null,
      "outputs": []
    },
    {
      "cell_type": "code",
      "source": [
        "import os\n",
        "\n",
        "os.environ[\"OPENAI_API_KEY\"] = \"\""
      ],
      "metadata": {
        "id": "dNA4TsHpu6OM"
      },
      "execution_count": null,
      "outputs": []
    },
    {
      "cell_type": "markdown",
      "source": [
        "# Hypothetical Document Embeddings (HyDE)\n",
        "\n",
        "modified from - https://github.com/langchain-ai/langchain/tree/master/cookbook\n",
        "\n",
        "HyDE creates a \"Hypothetical\" answer with the LLM and then embeds that for search\n",
        "\n",
        "HyDE = Base Embedding model+ LLM Chain (with prompts)"
      ],
      "metadata": {
        "id": "VOVBrYQLga-y"
      }
    },
    {
      "cell_type": "code",
      "source": [
        "from langchain.llms import OpenAI\n",
        "from langchain.embeddings import OpenAIEmbeddings\n",
        "from langchain.chains import LLMChain, HypotheticalDocumentEmbedder\n",
        "from langchain.prompts import PromptTemplate\n",
        "\n",
        "from langchain.document_loaders import TextLoader\n",
        "import langchain"
      ],
      "metadata": {
        "id": "Ln5WZyf05DVh"
      },
      "execution_count": null,
      "outputs": []
    },
    {
      "cell_type": "markdown",
      "source": [
        "## BGE Embeddings"
      ],
      "metadata": {
        "id": "378x9zFvp-Pt"
      }
    },
    {
      "cell_type": "code",
      "source": [
        "from langchain.embeddings import HuggingFaceBgeEmbeddings\n",
        "\n",
        "model_name = \"BAAI/bge-small-en-v1.5\"\n",
        "encode_kwargs = {'normalize_embeddings': True} # set True to compute cosine similarity\n",
        "\n",
        "bge_embeddings = HuggingFaceBgeEmbeddings(\n",
        "    model_name=model_name,\n",
        "    model_kwargs={'device': 'cuda'},\n",
        "    encode_kwargs=encode_kwargs\n",
        ")"
      ],
      "metadata": {
        "id": "CH1VEgdfp9TF"
      },
      "execution_count": null,
      "outputs": []
    },
    {
      "cell_type": "code",
      "source": [
        "# Set up the LLM\n",
        "llm = OpenAI()"
      ],
      "metadata": {
        "id": "8Xx4Tw13VxDA"
      },
      "execution_count": null,
      "outputs": []
    },
    {
      "cell_type": "code",
      "source": [
        "# Load with `web_search` prompt\n",
        "embeddings = HypotheticalDocumentEmbedder.from_llm(llm,\n",
        "                                                   bge_embeddings,\n",
        "                                                   prompt_key=\"web_search\"\n",
        "                                                   )"
      ],
      "metadata": {
        "id": "5IeFT234go33"
      },
      "execution_count": null,
      "outputs": []
    },
    {
      "cell_type": "code",
      "source": [
        "embeddings.llm_chain.prompt"
      ],
      "metadata": {
        "colab": {
          "base_uri": "https://localhost:8080/"
        },
        "id": "HjfCY_1MXOKm",
        "outputId": "cef41c0c-7475-4fa8-ded2-b43b93750eb8"
      },
      "execution_count": null,
      "outputs": [
        {
          "output_type": "execute_result",
          "data": {
            "text/plain": [
              "PromptTemplate(input_variables=['QUESTION'], template='Please write a passage to answer the question \\nQuestion: {QUESTION}\\nPassage:')"
            ]
          },
          "metadata": {},
          "execution_count": 41
        }
      ]
    },
    {
      "cell_type": "code",
      "source": [
        "langchain.debug = True"
      ],
      "metadata": {
        "id": "mPDEUebYbhWg"
      },
      "execution_count": null,
      "outputs": []
    },
    {
      "cell_type": "code",
      "source": [
        "# Now we can use it as any embedding class!\n",
        "result = embeddings.embed_query(\"What items does McDonalds make?\")"
      ],
      "metadata": {
        "id": "9cZfWCEzg1Rb",
        "colab": {
          "base_uri": "https://localhost:8080/"
        },
        "outputId": "09cfa7af-8c96-4da2-d0db-f5fef53ab3c4"
      },
      "execution_count": null,
      "outputs": [
        {
          "output_type": "stream",
          "name": "stdout",
          "text": [
            "\u001b[32;1m\u001b[1;3m[llm/start]\u001b[0m \u001b[1m[1:llm:OpenAI] Entering LLM run with input:\n",
            "\u001b[0m{\n",
            "  \"prompts\": [\n",
            "    \"Please write a passage to answer the question \\nQuestion: What items does McDonalds make?\\nPassage:\"\n",
            "  ]\n",
            "}\n",
            "\u001b[36;1m\u001b[1;3m[llm/end]\u001b[0m \u001b[1m[1:llm:OpenAI] [2.81s] Exiting LLM run with output:\n",
            "\u001b[0m{\n",
            "  \"generations\": [\n",
            "    [\n",
            "      {\n",
            "        \"text\": \" \\nMcDonalds is a fast food restaurant chain that is known for making a variety of items. These items include their signature burgers such as the Big Mac and Quarter Pounder, as well as chicken sandwiches, wraps, salads, breakfast items, desserts, and more. They also offer a range of side items, including fries, onion rings, mozzarella sticks, and more. In addition, McDonalds also offers a variety of drinks, including soft drinks, smoothies, milkshakes, coffee, and more. All of these items can be found at any McDonalds restaurant.\",\n",
            "        \"generation_info\": {\n",
            "          \"finish_reason\": \"stop\",\n",
            "          \"logprobs\": null\n",
            "        }\n",
            "      }\n",
            "    ]\n",
            "  ],\n",
            "  \"llm_output\": {\n",
            "    \"token_usage\": {\n",
            "      \"prompt_tokens\": 23,\n",
            "      \"completion_tokens\": 119,\n",
            "      \"total_tokens\": 142\n",
            "    },\n",
            "    \"model_name\": \"text-davinci-003\"\n",
            "  },\n",
            "  \"run\": null\n",
            "}\n"
          ]
        }
      ]
    },
    {
      "cell_type": "code",
      "source": [
        "# result"
      ],
      "metadata": {
        "id": "35t2t5rMg7eN"
      },
      "execution_count": null,
      "outputs": []
    },
    {
      "cell_type": "markdown",
      "source": [
        "## Multiple generations\n",
        "We can also generate multiple documents and then combine the embeddings for those. By default, we combine those by taking the average. We can do this by changing the LLM we use to generate documents to return multiple things."
      ],
      "metadata": {
        "id": "I35V_-_2hnND"
      }
    },
    {
      "cell_type": "code",
      "source": [
        "multi_llm = OpenAI(n=4, best_of=4)"
      ],
      "metadata": {
        "id": "8xwiuCtog5i9"
      },
      "execution_count": null,
      "outputs": []
    },
    {
      "cell_type": "code",
      "source": [
        "embeddings = HypotheticalDocumentEmbedder.from_llm(\n",
        "    multi_llm, bge_embeddings, \"web_search\"\n",
        ")"
      ],
      "metadata": {
        "id": "eCrTReegh0_A"
      },
      "execution_count": null,
      "outputs": []
    },
    {
      "cell_type": "code",
      "source": [
        "result = embeddings.embed_query(\"What is McDonalds best selling item?\")"
      ],
      "metadata": {
        "id": "KeppFREph3II",
        "colab": {
          "base_uri": "https://localhost:8080/"
        },
        "outputId": "f0597046-71f2-4305-e0f2-cfb5b79941df"
      },
      "execution_count": null,
      "outputs": [
        {
          "output_type": "stream",
          "name": "stdout",
          "text": [
            "\u001b[32;1m\u001b[1;3m[llm/start]\u001b[0m \u001b[1m[1:llm:OpenAI] Entering LLM run with input:\n",
            "\u001b[0m{\n",
            "  \"prompts\": [\n",
            "    \"Please write a passage to answer the question \\nQuestion: What is McDonalds best selling item?\\nPassage:\"\n",
            "  ]\n",
            "}\n",
            "\u001b[36;1m\u001b[1;3m[llm/end]\u001b[0m \u001b[1m[1:llm:OpenAI] [4.03s] Exiting LLM run with output:\n",
            "\u001b[0m{\n",
            "  \"generations\": [\n",
            "    [\n",
            "      {\n",
            "        \"text\": \" McDonalds is one of the most popular fast food restaurants in the world with its iconic golden arches logo. Its menu includes a variety of items, but one item stands out as the best seller. The Big Mac, introduced in 1968 and now one of the most iconic items in McDonalds history, is the best selling item on the menu. It is a two-patty hamburger made with a special sauce, lettuce, cheese, pickles, and onions on a sesame seed bun. The Big Mac is a classic that has stood the test of time and continues to be a favorite among customers. In 2020, McDonalds sold over 1 billion Big Macs worldwide, making it the clear best selling item in the McDonalds lineup.\",\n",
            "        \"generation_info\": {\n",
            "          \"finish_reason\": \"stop\",\n",
            "          \"logprobs\": null\n",
            "        }\n",
            "      },\n",
            "      {\n",
            "        \"text\": \"\\nMcDonald's best selling item is undoubtedly the Big Mac. This iconic burger has been a staple of the McDonald's menu for decades and has become the unofficial mascot for the fast food chain. The Big Mac is made up of two all-beef patties, a slice of cheese, lettuce, onions, pickles, and of course, the special Big Mac sauce. It's the combination of these ingredients that make the Big Mac so popular. It's a classic burger that will never go out of style. In fact, the Big Mac is so popular that it even has its own commercial jingle. It's no wonder why this burger is McDonald's most popular item!\",\n",
            "        \"generation_info\": {\n",
            "          \"finish_reason\": \"stop\",\n",
            "          \"logprobs\": null\n",
            "        }\n",
            "      },\n",
            "      {\n",
            "        \"text\": \" McDonalds is one of the most recognizable fast food chains in the world. They offer a variety of menu items, however, their most popular item is the Big Mac. This iconic burger consists of two beef patties, special sauce, lettuce, cheese, pickles, and onions, all sandwiched between a three part sesame seed bun. It has been the number one seller since it was first introduced in 1968 and has become an international favorite. It is so popular that McDonald's has even created variations of the Big Mac in different countries, such as the Mega Mac in Japan which has four beef patties and the Maharaja Mac in India which is made with a chicken patty. The Big Mac is a staple of the McDonald's menu and will likely remain the top-selling item for years to come.\",\n",
            "        \"generation_info\": {\n",
            "          \"finish_reason\": \"stop\",\n",
            "          \"logprobs\": null\n",
            "        }\n",
            "      },\n",
            "      {\n",
            "        \"text\": \" McDonalds is well known for their signature Big Mac, which is one of the most popular and best selling items on their menu. The Big Mac is made with two beef patties, special sauce, lettuce, cheese, pickles, and onions, all served on a sesame seed bun. The iconic burger has been a staple of the McDonalds menu since its introduction in 1968 and is still one of the most popular items on the menu today. Other popular items on the McDonalds menu include the Quarter Pounder, Chicken McNuggets, and fries.\",\n",
            "        \"generation_info\": {\n",
            "          \"finish_reason\": \"stop\",\n",
            "          \"logprobs\": null\n",
            "        }\n",
            "      }\n",
            "    ]\n",
            "  ],\n",
            "  \"llm_output\": {\n",
            "    \"token_usage\": {\n",
            "      \"prompt_tokens\": 24,\n",
            "      \"completion_tokens\": 564,\n",
            "      \"total_tokens\": 588\n",
            "    },\n",
            "    \"model_name\": \"text-davinci-003\"\n",
            "  },\n",
            "  \"run\": null\n",
            "}\n"
          ]
        }
      ]
    },
    {
      "cell_type": "markdown",
      "source": [
        "## Using our own prompts\n",
        "Besides using preconfigured prompts, we can also easily construct our own prompts and use those in the LLMChain that is generating the documents. This can be useful if we know the domain our queries will be in, as we can condition the prompt to generate text more similar to that.\n",
        "\n",
        "In the example below, let's condition it to generate text about a state of the union address (because we will use that in the next example)."
      ],
      "metadata": {
        "id": "gOBLGPKqh-8s"
      }
    },
    {
      "cell_type": "code",
      "source": [
        "prompt_template = \"\"\"Please answer the user's question as a single food item\n",
        "Question: {question}\n",
        "Answer:\"\"\"\n",
        "\n",
        "prompt = PromptTemplate(input_variables=[\"question\"], template=prompt_template)\n",
        "\n",
        "llm_chain = LLMChain(llm=llm, prompt=prompt)"
      ],
      "metadata": {
        "id": "hl6n-iIWh5S0"
      },
      "execution_count": null,
      "outputs": []
    },
    {
      "cell_type": "code",
      "source": [
        "embeddings = HypotheticalDocumentEmbedder(\n",
        "    llm_chain=llm_chain,\n",
        "    base_embeddings=bge_embeddings\n",
        ")"
      ],
      "metadata": {
        "id": "XySX7gRZiMEO"
      },
      "execution_count": null,
      "outputs": []
    },
    {
      "cell_type": "code",
      "source": [
        "result = embeddings.embed_query(\n",
        "    \"What is is McDonalds best selling item?\"\n",
        ")"
      ],
      "metadata": {
        "id": "Y0Hz5eKXiTvH",
        "colab": {
          "base_uri": "https://localhost:8080/"
        },
        "outputId": "fcc21d92-ebec-4e81-90cf-ab78ad29a6b2"
      },
      "execution_count": null,
      "outputs": [
        {
          "output_type": "stream",
          "name": "stdout",
          "text": [
            "\u001b[32;1m\u001b[1;3m[llm/start]\u001b[0m \u001b[1m[1:llm:OpenAI] Entering LLM run with input:\n",
            "\u001b[0m{\n",
            "  \"prompts\": [\n",
            "    \"Please answer the user's question as a single food item\\nQuestion: What is is McDonalds best selling item?\\nAnswer:\"\n",
            "  ]\n",
            "}\n",
            "\u001b[36;1m\u001b[1;3m[llm/end]\u001b[0m \u001b[1m[1:llm:OpenAI] [211ms] Exiting LLM run with output:\n",
            "\u001b[0m{\n",
            "  \"generations\": [\n",
            "    [\n",
            "      {\n",
            "        \"text\": \" Big Mac\",\n",
            "        \"generation_info\": {\n",
            "          \"finish_reason\": \"stop\",\n",
            "          \"logprobs\": null\n",
            "        }\n",
            "      }\n",
            "    ]\n",
            "  ],\n",
            "  \"llm_output\": {\n",
            "    \"token_usage\": {\n",
            "      \"prompt_tokens\": 26,\n",
            "      \"completion_tokens\": 2,\n",
            "      \"total_tokens\": 28\n",
            "    },\n",
            "    \"model_name\": \"text-davinci-003\"\n",
            "  },\n",
            "  \"run\": null\n",
            "}\n"
          ]
        }
      ]
    },
    {
      "cell_type": "code",
      "source": [
        "result"
      ],
      "metadata": {
        "colab": {
          "base_uri": "https://localhost:8080/"
        },
        "id": "S4azcFwqbWLv",
        "outputId": "f40bfccb-a0dc-4a8d-d116-d428e665a344"
      },
      "execution_count": null,
      "outputs": [
        {
          "output_type": "execute_result",
          "data": {
            "text/plain": [
              "[-0.044095832854509354,\n",
              " -0.06810590624809265,\n",
              " 0.004882005043327808,\n",
              " -0.07507439702749252,\n",
              " 0.06125683709979057,\n",
              " -0.007851513102650642,\n",
              " 0.018615737557411194,\n",
              " -0.03252461180090904,\n",
              " -0.006711804773658514,\n",
              " -0.032447636127471924,\n",
              " 0.0023166481405496597,\n",
              " -0.017370186746120453,\n",
              " 0.0515742152929306,\n",
              " -0.01829112134873867,\n",
              " 0.053303007036447525,\n",
              " 0.04405609890818596,\n",
              " 0.08549801260232925,\n",
              " -0.05806007981300354,\n",
              " -0.048251908272504807,\n",
              " -0.008680134080350399,\n",
              " 0.03713998943567276,\n",
              " -0.047634974122047424,\n",
              " -0.05635959655046463,\n",
              " 0.004725407809019089,\n",
              " -0.030568445101380348,\n",
              " -0.001297995913773775,\n",
              " -0.012270244769752026,\n",
              " -0.0032627666369080544,\n",
              " -0.0542445033788681,\n",
              " -0.17446546256542206,\n",
              " -0.013889017514884472,\n",
              " -0.017733868211507797,\n",
              " 0.09076353907585144,\n",
              " -0.0187506265938282,\n",
              " 0.025643033906817436,\n",
              " 0.011270520277321339,\n",
              " 0.020745573565363884,\n",
              " -0.0077807423658668995,\n",
              " -0.02745167911052704,\n",
              " -0.01441169809550047,\n",
              " 0.09279394894838333,\n",
              " 0.032126061618328094,\n",
              " 0.0019034186843782663,\n",
              " -0.004914487712085247,\n",
              " 0.05695178359746933,\n",
              " -0.020473210141062737,\n",
              " -0.00666260439902544,\n",
              " -0.006748215761035681,\n",
              " 0.07752080261707306,\n",
              " 0.037432294338941574,\n",
              " 0.006875813007354736,\n",
              " -0.061861880123615265,\n",
              " -0.04047538712620735,\n",
              " 0.011782458983361721,\n",
              " 0.004433030262589455,\n",
              " 0.07224865257740021,\n",
              " 0.05140621215105057,\n",
              " -0.009862898848950863,\n",
              " 0.05973620340228081,\n",
              " 0.022285226732492447,\n",
              " 0.00516577810049057,\n",
              " 0.038548558950424194,\n",
              " -0.1511780321598053,\n",
              " 0.07760928571224213,\n",
              " 0.0321706160902977,\n",
              " 0.0021759141236543655,\n",
              " -0.03531210124492645,\n",
              " -0.007644982077181339,\n",
              " -0.027895884588360786,\n",
              " 0.02319924533367157,\n",
              " 0.0013555745827034116,\n",
              " -0.0005263788625597954,\n",
              " 0.04757104441523552,\n",
              " 0.11147870123386383,\n",
              " -0.03158729895949364,\n",
              " -0.040627237409353256,\n",
              " 0.046668387949466705,\n",
              " 0.056099168956279755,\n",
              " -0.016850724816322327,\n",
              " 0.012253575958311558,\n",
              " 0.06207931041717529,\n",
              " -0.040463730692863464,\n",
              " -0.035935305058956146,\n",
              " -0.06651055812835693,\n",
              " -0.05830656737089157,\n",
              " 0.001391464495100081,\n",
              " -0.09314769506454468,\n",
              " 0.038967058062553406,\n",
              " 0.04521608352661133,\n",
              " -0.09127269685268402,\n",
              " -0.023113204166293144,\n",
              " -0.03279777243733406,\n",
              " 0.048567015677690506,\n",
              " -0.025905614718794823,\n",
              " -0.035878438502550125,\n",
              " -0.028370937332510948,\n",
              " 0.0597163587808609,\n",
              " 0.00459470646455884,\n",
              " -0.062305230647325516,\n",
              " 0.26169392466545105,\n",
              " -0.013379930518567562,\n",
              " 0.04232048988342285,\n",
              " 0.010776925832033157,\n",
              " -0.010662860237061977,\n",
              " 0.04633026942610741,\n",
              " 0.002795668551698327,\n",
              " 0.10602080821990967,\n",
              " 0.03270510956645012,\n",
              " 0.018133554607629776,\n",
              " 0.0032328928355127573,\n",
              " 0.027089009061455727,\n",
              " 0.07232139259576797,\n",
              " 0.03240404278039932,\n",
              " -0.005853553302586079,\n",
              " 0.033600639551877975,\n",
              " -0.05996261537075043,\n",
              " 0.04860491678118706,\n",
              " 0.0032544357236474752,\n",
              " -0.005962044466286898,\n",
              " 0.027527209371328354,\n",
              " 0.008586302399635315,\n",
              " 0.060723211616277695,\n",
              " 0.01017874013632536,\n",
              " 0.028532283380627632,\n",
              " -0.0020039358641952276,\n",
              " -0.04756295308470726,\n",
              " -0.018765171989798546,\n",
              " 0.12020301818847656,\n",
              " -0.01942911371588707,\n",
              " 0.015387287363409996,\n",
              " -0.0031271050684154034,\n",
              " 0.0015510055236518383,\n",
              " -0.042567405849695206,\n",
              " -0.01918020471930504,\n",
              " 0.058374855667352676,\n",
              " 0.0029333317652344704,\n",
              " 0.0005051136831752956,\n",
              " 0.019456617534160614,\n",
              " 0.037932999432086945,\n",
              " -0.03228471055626869,\n",
              " -0.05383908376097679,\n",
              " -0.027172677218914032,\n",
              " 0.033128608018159866,\n",
              " -0.0745244026184082,\n",
              " -0.008150516077876091,\n",
              " 0.03249073401093483,\n",
              " -0.015219761058688164,\n",
              " 0.03703279793262482,\n",
              " -0.02679879032075405,\n",
              " 0.007287189830094576,\n",
              " 0.014668792486190796,\n",
              " 0.029799116775393486,\n",
              " 0.005949299316853285,\n",
              " -0.0019945441745221615,\n",
              " 0.01042885147035122,\n",
              " 0.008070833049714565,\n",
              " 0.04820013418793678,\n",
              " 0.022319329902529716,\n",
              " -0.022759774699807167,\n",
              " -0.017968155443668365,\n",
              " -0.05839359387755394,\n",
              " 0.01156424731016159,\n",
              " -0.03229140117764473,\n",
              " -0.05963718518614769,\n",
              " 0.02845698967576027,\n",
              " -0.11813931167125702,\n",
              " -0.00983953382819891,\n",
              " 0.019627466797828674,\n",
              " -0.04160197079181671,\n",
              " -0.01010540034621954,\n",
              " -0.05119667947292328,\n",
              " 0.014035150408744812,\n",
              " -0.04919504001736641,\n",
              " 0.04546819254755974,\n",
              " 0.08098262548446655,\n",
              " -0.018068302422761917,\n",
              " -0.0717940405011177,\n",
              " -0.018497267737984657,\n",
              " -0.019275084137916565,\n",
              " -0.016353487968444824,\n",
              " -0.014659401960670948,\n",
              " -0.061503488570451736,\n",
              " -0.011676717549562454,\n",
              " -0.008074499666690826,\n",
              " 0.036774586886167526,\n",
              " -0.052313316613435745,\n",
              " 0.0569334477186203,\n",
              " -0.023551462218165398,\n",
              " 0.050297003239393234,\n",
              " 0.044013168662786484,\n",
              " 0.03938417136669159,\n",
              " 0.059011783450841904,\n",
              " -0.0032861477229744196,\n",
              " -0.018009213730692863,\n",
              " -0.07895054668188095,\n",
              " -0.06928842514753342,\n",
              " -0.05556606128811836,\n",
              " 0.025053994730114937,\n",
              " 0.06248163804411888,\n",
              " 0.02229280397295952,\n",
              " -0.008068650960922241,\n",
              " -0.04512857645750046,\n",
              " -0.08932814002037048,\n",
              " -0.007891920395195484,\n",
              " -0.0028531746938824654,\n",
              " -0.011096503585577011,\n",
              " -0.041038744151592255,\n",
              " 0.0064061488956213,\n",
              " 0.005185191985219717,\n",
              " -0.024199586361646652,\n",
              " 0.01667001284658909,\n",
              " 0.0037231247406452894,\n",
              " 0.0705859363079071,\n",
              " 0.010130411945283413,\n",
              " -0.03399600461125374,\n",
              " 0.0030003353022038937,\n",
              " 0.044447384774684906,\n",
              " 0.04590446501970291,\n",
              " -0.013501153327524662,\n",
              " 0.008372437208890915,\n",
              " 0.04932035133242607,\n",
              " -0.015281213447451591,\n",
              " -0.04772232845425606,\n",
              " -0.3273446261882782,\n",
              " 0.035349950194358826,\n",
              " 0.016468200832605362,\n",
              " -0.005950515158474445,\n",
              " 0.00011081357661169022,\n",
              " -0.07117635756731033,\n",
              " 0.024113662540912628,\n",
              " -0.03949815407395363,\n",
              " 0.04671229049563408,\n",
              " 0.07759574800729752,\n",
              " 0.007342248223721981,\n",
              " -0.04730607941746712,\n",
              " -0.032374925911426544,\n",
              " 0.042993899434804916,\n",
              " -0.06333480775356293,\n",
              " 0.049356378614902496,\n",
              " 0.032326728105545044,\n",
              " 0.002242603339254856,\n",
              " 0.01283310167491436,\n",
              " 0.020535524934530258,\n",
              " 0.011679393239319324,\n",
              " 0.04751793295145035,\n",
              " -0.061272136867046356,\n",
              " 0.011696206405758858,\n",
              " -0.018101174384355545,\n",
              " -0.012527130544185638,\n",
              " 0.16619282960891724,\n",
              " 0.0480770468711853,\n",
              " 0.04894951358437538,\n",
              " -0.018788591027259827,\n",
              " 0.02449585311114788,\n",
              " 0.07094259560108185,\n",
              " -0.04183002933859825,\n",
              " -0.02757525071501732,\n",
              " -0.007330242078751326,\n",
              " 0.10337525606155396,\n",
              " 0.03997326269745827,\n",
              " 0.004151834174990654,\n",
              " -0.05146186798810959,\n",
              " -0.017096901312470436,\n",
              " -0.03503410518169403,\n",
              " 0.008278748020529747,\n",
              " -0.03802209347486496,\n",
              " -0.1452684849500656,\n",
              " 0.03385991230607033,\n",
              " -0.028060445562005043,\n",
              " 0.07372865825891495,\n",
              " -0.04217652976512909,\n",
              " -0.04668140783905983,\n",
              " 0.021897684782743454,\n",
              " 0.05053989961743355,\n",
              " 0.003926238045096397,\n",
              " 0.046502240002155304,\n",
              " -0.04903699457645416,\n",
              " 0.0025905349757522345,\n",
              " -0.04880082979798317,\n",
              " -0.06594875454902649,\n",
              " -0.0473029762506485,\n",
              " 0.02439168654382229,\n",
              " -0.05642896518111229,\n",
              " 0.01870662532746792,\n",
              " 0.01668030396103859,\n",
              " -0.061302922666072845,\n",
              " 0.005078981164842844,\n",
              " 0.01415504701435566,\n",
              " 0.01577051356434822,\n",
              " -0.01847134344279766,\n",
              " 0.032584793865680695,\n",
              " -0.041435133665800095,\n",
              " -0.053270984441041946,\n",
              " 0.040963124483823776,\n",
              " -0.05415169894695282,\n",
              " 0.06674253195524216,\n",
              " 0.027690157294273376,\n",
              " 0.0932651087641716,\n",
              " 0.011182228103280067,\n",
              " 0.05353418365120888,\n",
              " -0.03081648424267769,\n",
              " -0.04585921764373779,\n",
              " -0.0705268457531929,\n",
              " 0.04950282722711563,\n",
              " 0.013946488499641418,\n",
              " 0.043525200337171555,\n",
              " 0.04847346618771553,\n",
              " 0.09294252842664719,\n",
              " -0.01790621131658554,\n",
              " 0.021050823852419853,\n",
              " -0.02589568682014942,\n",
              " 0.02763574756681919,\n",
              " -0.026175668463110924,\n",
              " 0.015164820477366447,\n",
              " -0.0170449111610651,\n",
              " -0.025067448616027832,\n",
              " -0.05774226412177086,\n",
              " -0.0003097760200034827,\n",
              " 0.0631401464343071,\n",
              " -0.2602947950363159,\n",
              " 0.07503398507833481,\n",
              " -0.030120382085442543,\n",
              " 0.054502975195646286,\n",
              " -0.02172103524208069,\n",
              " -0.018744371831417084,\n",
              " -0.019442185759544373,\n",
              " -0.019410617649555206,\n",
              " -0.009594805538654327,\n",
              " 0.06147920340299606,\n",
              " -0.052686404436826706,\n",
              " 0.02305610664188862,\n",
              " 0.031700603663921356,\n",
              " -0.04353123903274536,\n",
              " 0.017038049176335335,\n",
              " -0.03510593995451927,\n",
              " 0.03465578705072403,\n",
              " 0.020068084821105003,\n",
              " 0.027753273025155067,\n",
              " -0.01757018454372883,\n",
              " 0.03618515282869339,\n",
              " -0.01874106377363205,\n",
              " 0.14021067321300507,\n",
              " -0.022518303245306015,\n",
              " -0.008540542796254158,\n",
              " 0.02283584699034691,\n",
              " -0.04662037268280983,\n",
              " 0.018977927044034004,\n",
              " 0.01033603586256504,\n",
              " -0.011170933954417706,\n",
              " 0.07524201273918152,\n",
              " -0.029164640232920647,\n",
              " 0.019155103713274002,\n",
              " -0.05933953821659088,\n",
              " -0.02432960458099842,\n",
              " 0.042330462485551834,\n",
              " -0.05455697327852249,\n",
              " -0.011548365466296673,\n",
              " -0.028365954756736755,\n",
              " 0.05354965478181839,\n",
              " -0.025076568126678467,\n",
              " 0.01160935778170824,\n",
              " -0.08816272020339966,\n",
              " -0.02695845440030098,\n",
              " 0.07529664039611816,\n",
              " -0.015881387516856194,\n",
              " 0.016986612230539322,\n",
              " -0.02694939449429512,\n",
              " 0.030372945591807365,\n",
              " -0.021230343729257584,\n",
              " -0.033663902431726456,\n",
              " -0.044819947332143784,\n",
              " -0.0037664545234292746,\n",
              " 0.06969479471445084,\n",
              " 0.036324191838502884,\n",
              " -0.005781863816082478,\n",
              " -0.03392207622528076,\n",
              " 0.05985115468502045,\n",
              " -0.051789697259664536,\n",
              " -0.012405936606228352,\n",
              " 0.018916448578238487,\n",
              " -0.002298652194440365,\n",
              " -0.001976807601749897,\n",
              " 0.04060088098049164,\n",
              " 0.0029630979988723993]"
            ]
          },
          "metadata": {},
          "execution_count": 47
        }
      ]
    },
    {
      "cell_type": "markdown",
      "source": [
        "## Using HyDE\n",
        "\n",
        "Now that we have HyDE, we can use it as we would any other embedding class! Here is using it to find similar passages in the state of the union example."
      ],
      "metadata": {
        "id": "nsVi5ucMilq1"
      }
    },
    {
      "cell_type": "code",
      "source": [
        "from langchain.text_splitter import CharacterTextSplitter\n",
        "from langchain.vectorstores import Chroma\n",
        "\n",
        "# with open(\"../../state_of_the_union.txt\") as f:\n",
        "#     state_of_the_union = f.read()\n",
        "\n",
        "loaders = [\n",
        "    TextLoader('/content/blog_posts/blog.langchain.dev_announcing-langsmith_.txt'),\n",
        "    TextLoader('/content/blog_posts/blog.langchain.dev_benchmarking-question-answering-over-csv-data_.txt'),\n",
        "    TextLoader('/content/blog_posts/blog.langchain.dev_chat-loaders-finetune-a-chatmodel-in-your-voice_.txt'),\n",
        "]\n",
        "docs = []\n",
        "for l in loaders:\n",
        "    docs.extend(l.load())\n",
        "\n",
        "text_splitter = CharacterTextSplitter(chunk_size=1000, chunk_overlap=0)\n",
        "\n",
        "texts = text_splitter.split_documents(docs) #split_text"
      ],
      "metadata": {
        "id": "hWTWUBcBiWf3"
      },
      "execution_count": null,
      "outputs": []
    },
    {
      "cell_type": "code",
      "source": [
        "texts"
      ],
      "metadata": {
        "colab": {
          "base_uri": "https://localhost:8080/"
        },
        "id": "HYulGwZsc4F7",
        "outputId": "c983d6d3-fa14-461a-870b-0660f9d0fc57"
      },
      "execution_count": null,
      "outputs": [
        {
          "output_type": "execute_result",
          "data": {
            "text/plain": [
              "[Document(page_content='URL: https://blog.langchain.dev/announcing-langsmith/\\nTitle: Announcing LangSmith, a unified platform for debugging, testing, evaluating, and monitoring your LLM applications\\n\\nLangChain exists to make it as easy as possible to develop LLM-powered applications.\\n\\nWe started with an open-source Python package when the main blocker for building LLM-powered applications was getting a simple prototype working. We remember seeing Nat Friedman tweet in late 2022 that there was “not enough tinkering happening.” The LangChain open-source packages are aimed at addressing this and we see lots of tinkering happening now (Nat agrees)–people are building everything from chatbots over internal company documents to an AI dungeon master for a Dungeons and Dragons game.', metadata={'source': '/content/blog_posts/blog.langchain.dev_announcing-langsmith_.txt'}),\n",
              " Document(page_content='The blocker has now changed. While it’s easy to build a prototype of an application in ~5 lines of LangChain code, it’s still deceptively hard to take an application from prototype to production. The main issue that we see today is application performance–something that works ~30% of the time is good enough for a Twitter demo, but not nearly good enough for production.\\n\\nToday, we’re introducing LangSmith, a platform to help developers close the gap between prototype and production. It’s designed for building and iterating on products that can harness the power–and wrangle the complexity–of LLMs.\\n\\nLangSmith is now in closed beta. So if you’re looking for a robust, unified, system for debugging, testing, evaluating, and monitoring your LLM applications, sign up here.\\n\\nHow did we get here?', metadata={'source': '/content/blog_posts/blog.langchain.dev_announcing-langsmith_.txt'}),\n",
              " Document(page_content='Given the stochastic nature of LLMs, it is not easy–and there’s currently no straightforward way–to answer the simple question of “what’s happening in these models?,” let alone getting them to work reliably. The builders we hear from are running into the same roadblocks (and it’s true for our team, too):\\n\\nUnderstanding what exactly the final prompt to the LLM call is (after all the prompt template formatting, this final prompt can be long and obfuscated)\\n\\nUnderstanding what exactly is returned from the LLM call at each step (before it is post-processed or transformed in any way)\\n\\nUnderstanding the exact sequence of calls to LLM (or other resources), and how they are chained together\\n\\nTracking token usage\\n\\nManaging costs\\n\\nTracking (and debugging) latency\\n\\nNot having a good dataset to evaluate their application over\\n\\nNot having good metrics with which to evaluate their application\\n\\nUnderstanding how users are interacting with the product', metadata={'source': '/content/blog_posts/blog.langchain.dev_announcing-langsmith_.txt'}),\n",
              " Document(page_content='All of these problems have parallels in traditional software engineering. And, in response, a set of practices and tools for debugging, testing, logging, monitoring, etc. has emerged to help developers abstract away common infrastructure and focus on what really matters - building their applications. LLM application developers deserve the same.\\n\\nLangSmith aspires to be that platform. Over the last few months, we’ve been working directly with some early design partners and testing it on our own internal workflows, and we’ve found LangSmith helps teams in 5 core ways:\\n\\nDebugging\\n\\nLangSmith gives you full visibility into model inputs and output of every step in the chain of events. This makes it easy for teams to experiment with new chains and prompt templates, and spot the source of unexpected results, errors, or latency issues. We’ll also expose latency and token usage so that you can identify which calls are causing issues.', metadata={'source': '/content/blog_posts/blog.langchain.dev_announcing-langsmith_.txt'}),\n",
              " Document(page_content='We’ve also made it easy to change and rerun examples from the UI. We added this feature after seeing teams take logs of bad examples and copy-paste into the OpenAI playground to tweak the prompt until they got a good result. We wanted to eliminate that friction, and now with the click of a button, you can go from a log to a playground where you can actively edit. This is currently supported for both OpenAI and Anthropic models, with support for more coming soon. We’re also working on supporting this for chains in general.\\n\\nThis deep visibility into model performance has been particularly helpful for teams developing complex applications. LangSmith helped Streamlit and Snowflake implement agents that could intelligently and reliably answer questions about their data.', metadata={'source': '/content/blog_posts/blog.langchain.dev_announcing-langsmith_.txt'}),\n",
              " Document(page_content='\"LangChain has been instrumental in helping us prototype intelligent agents at Snowflake,” said Adrien Treuille, Director of Product at Snowflake. “LangSmith was easy to integrate, and the agnostic open source API made it very flexible to adapt to our implementation,” tacked on Richard Meng, Senior Software Engineer at Snowflake.\\n\\nBoston Consulting Group also built a highly-customized, and highly performant, series of applications on top of LangChain’s framework by relying on this same infrastructure.', metadata={'source': '/content/blog_posts/blog.langchain.dev_announcing-langsmith_.txt'}),\n",
              " Document(page_content=\"“We are proud of being one of the early LangChain design partners and users of LangSmith,” Said Dan Sack, Managing Director and Partner at BCG. “The use of LangSmith has been key to bringing production-ready LLM applications to our clients. LangSmith's ease of integration and intuitive UI enabled us to have an evaluation pipeline up and running very quickly. Additionally, tracing and evaluating the complex agent prompt chains is much easier, reducing the time required to debug and refine our prompts, and giving us the confidence to move to deployment.”\", metadata={'source': '/content/blog_posts/blog.langchain.dev_announcing-langsmith_.txt'}),\n",
              " Document(page_content='In another example of debugging in action, we partnered with DeepLearningAI to equip learners in the recently-released LangChain courses with access to LangSmith. This allowed students to easily visualize the exact sequence of calls, and the inputs and outputs at each step in the chain with precision. Students can understand exactly what the chains, prompts, and LLMs were doing, which helps build intuition as they learn to create new and more sophisticated applications.\\n\\nTesting\\n\\nOne of the main questions we see developers grapple with is: “If I change this chain/prompt, how does that affect my outputs?” The most effective way to answer this question is to curate a dataset of examples that you care about, and then run any changed prompts/chains over this dataset. LangSmith first makes it easy to create these datasets from traces or by uploading datasets you’ve curated manually. You can then easily run chains and prompts over those data sets.', metadata={'source': '/content/blog_posts/blog.langchain.dev_announcing-langsmith_.txt'}),\n",
              " Document(page_content='The first helpful step is simply manually looking at the new inputs and outputs. Although this may seem unsatisfyingly basic, it actually has some benefits - many of the companies we’ve spoken to actually like some manual touch points because it allows them to develop better intuition about how to interact with LLMs. This intuition can prove incredibly valuable when trying to think about how to improve the application. The main unlock we hope to provide is a clear interface for letting developers easily see the inputs and outputs for each data point, as without that visibility they cannot build up that intuition.', metadata={'source': '/content/blog_posts/blog.langchain.dev_announcing-langsmith_.txt'}),\n",
              " Document(page_content='Today, we primarily hear from teams that want to bring their prototype into production, and are narrowing in on specific prompts they’d like to improve. Klarna is building industry-leading AI integrations that go beyond a simple call to a language model, and instead rely on a series of calls. As they focus on a specific section, LangSmith has provided the tools and data they need to ensure no regressions occur.\\n\\nIn parallel, we’re starting to hear from more and more ambitious teams that are striving for a more effective approach.\\n\\nEvaluating\\n\\nLangSmith integrates seamlessly with our open source collection of evaluation modules. These modules have two main types of evaluation: heuristics and LLMs. Heuristic Evaluations will use logic like regexes to evaluate the correctness of an answer. LLM evaluations will use LLMs to evaluate themselves.', metadata={'source': '/content/blog_posts/blog.langchain.dev_announcing-langsmith_.txt'}),\n",
              " Document(page_content='We are extremely bullish on LLM assisted evaluation over the long term. Critics of this approach will say that it’s conceptually shaky and practically costly (time and money). But, we’ve been seeing some very compelling evidence come out of top labs that this is a viable strategy. And, as we collectively make improvements to these models–both private and open source–and usage becomes more ubiquitous, we expect costs to come down considerably.\\n\\nMonitoring', metadata={'source': '/content/blog_posts/blog.langchain.dev_announcing-langsmith_.txt'}),\n",
              " Document(page_content='While debugging, testing, and evaluating can help you get from prototype to production, the work doesn’t stop once you ship. Developers need to actively track performance, and ideally, optimize that performance based on feedback. We consistently see developers relying on LangSmith to track the system-level performance of their application (like latency and cost), track the model/chain performance (through associating feedback with runs), debug issues (diving into a particular run that went wrong), and establish a broad understanding of how users are interacting with their application and what their experience is like.\\n\\nAmbitious startups like Mendable, Multi-On and Quivr, who are already serving thousands of users are actively using LangSmith to not only monitor overall usage, but also use those insights to take action on critical issues.', metadata={'source': '/content/blog_posts/blog.langchain.dev_announcing-langsmith_.txt'}),\n",
              " Document(page_content='“Thanks to Langchain smith we were able to analyze our LLM calls, understand the performance of the different chain methods ( stuff vs reduce) for QA and improve upon it. It even helped us debug and understand errors we made. We are consistently using it to improve our prompt engineering and look forward to the new features,” said Stan Girard, Head of GenAI at Theodo and creator of Quivr.\\n\\nA unified platform\\n\\nWhile each of these product areas provide unique value, often at a specific point in time in the development process, we believe a great deal of the long term impact of LangSmith will come from having a single, fully-integrated hub to do this work from. We see teams with all kinds of Rube Goldberg-machine-like processes for managing their LLM applications, and we want to make that a thing of the past.', metadata={'source': '/content/blog_posts/blog.langchain.dev_announcing-langsmith_.txt'}),\n",
              " Document(page_content='As a very simple example, we considered it to be table stakes for LangSmith to help users easily create datasets from existing logs and use them immediately for testing and evaluation, seamlessly connecting the logging/debugging workflows to the testing/evaluation ones.\\n\\nFintual, a Latin American startup with big dreams to help their citizens build wealth through a personalized financial advisor, found LangSmith early in their LLM development journey. “As soon as we heard about LangSmith, we moved our entire development stack onto it. We could build the evaluation, testing, and monitoring tools we needed in-house. But it would be 1000x worse, take us 10x longer, and require a team 2x the size,” said Fintual leader Jose Pena.\\n\\n“Because we are building financial products, the bar for accuracy, personalization, and security is particularly high. LangSmith helps us build products we are confident putting in front of users.”', metadata={'source': '/content/blog_posts/blog.langchain.dev_announcing-langsmith_.txt'}),\n",
              " Document(page_content='We can’t wait to bring these benefits to more teams. And we’ve got a long list of features on the roadmap like analytics, playgrounds, collaboration, in-context learning, prompt creation, and more.\\n\\nFinally, we recognize that we cannot build ALL the functionality you will need to make it easy to make your applications production ready today. We’ve made it possible to export datasets in the format OpenAI evals expects so you can contribute them there. This data can be also used directly to fine tune your models on the Fireworks platform (and we aim to make it easy to plug into other fine-tuning systems as well). Finally, we’ve made logs exportable in a generic format and worked with teams like Context to ensure that you can load them into their analytics engine and run analytics over them in there.\\n\\nWe can’t wait to see what you build.', metadata={'source': '/content/blog_posts/blog.langchain.dev_announcing-langsmith_.txt'}),\n",
              " Document(page_content=\"URL: https://blog.langchain.dev/benchmarking-question-answering-over-csv-data/\\nTitle: Benchmarking Question/Answering Over CSV Data\\n\\nThis is a bit of a longer post. It's a deep dive on question-answering over tabular data. We discuss (and use) CSV data in this post, but a lot of the same ideas apply to SQL data. It covers:\\n\\nBackground Motivation: why this is an interesting task\\n\\nInitial Application: how we set up a simple Streamlit app in order to gather a good distribution of real questions\\n\\nInitial Solution: our initial solution and some conceptual considerations\\n\\nDebugging with LangSmith: what we saw people asking, and what issues our initial solution had\\n\\nEvaluation Setup: how we evaluated solutions\\n\\nImproved Solution: the final improved solution we arrived at\\n\\nAs a sneak preview, the improved solution we arrived at was a custom agent that used OpenAI functions and had access to two tools: a Python REPL and a retriever.\", metadata={'source': '/content/blog_posts/blog.langchain.dev_benchmarking-question-answering-over-csv-data_.txt'}),\n",
              " Document(page_content=\"We've open-sourced everything - the app we used to gather feedback, the dataset, the eval script - at this repo. We've also made a YouTube video walking through the content in this blog, if that's more your style.\\n\\nBackground Motivation\\n\\nThere's a pretty standard recipe for question over text data at this point. On the other hand, one area where we've heard consistent asks for improvement is with regards to tabular (CSV) data. Lots of enterprise data is contained in CSVs, and exposing a natural language interface over it can enable easy insights. The problem is that it's far less clear how to accomplish this.\\n\\nA few weeks ago we decided to focus on this for a bit but quickly ran into an issue–we didn't really know what types of questions people expected to be able ask CSV data, and we didn't have any good way to evaluate this applications.\\n\\n💡 Evaluation of LLM applications is often hard because of a lack of data and a lack of metrics.\", metadata={'source': '/content/blog_posts/blog.langchain.dev_benchmarking-question-answering-over-csv-data_.txt'}),\n",
              " Document(page_content=\"In traditional machine learning you usually start with a dataset of inputs and outputs, and you use this to train and then evaluate your model. However, because LLMs are fantastic zero shot learners, it is now possible to use a prompt to quickly build an application based on just an idea, and no data. While this is incredibly powerful in terms of enabling developers to build new applications quickly, it leads to difficulty in evaluating because you lack that data. This is why we've built LangSmith in a way where constructing datasets is as easy as possible.\\n\\nLikewise, there's often not great metrics for evaluating LLM applications. The outputs are often natural language, and traditional NLP metrics like BLEU and ROUGE aren't great. But what is good at understanding natural language? LLMs! We're pretty bullish on LLM assisted evaluation and have invested in building a bunch of evaluators that use LLMs to do the evaluation.\", metadata={'source': '/content/blog_posts/blog.langchain.dev_benchmarking-question-answering-over-csv-data_.txt'}),\n",
              " Document(page_content=\"So how did we apply these ideas to our task of creating a better application for answering questions over tabular data? We'll dive into these in more detail in the next sections, but at a high level we:\\n\\nUsed LangSmith to flag interesting datapoints and used that to construct a dataset of examples\\n\\nUsed LLMs to evaluate correctness\\n\\nInitial Application\\n\\nFirst, we set about creating a dataset of questions and ground truth answers. Part of the issue here was didn't even know what type of questions people would want to ask of their tabular data. We could have made some educated guesses, or tried to generate synthetic questions to ask. But we wanted to optimize instead for real questions, as we also wanted to do a bit of exploration here into what types of questions real users would want to ask.\\n\\n💡 Before you launch an app it can be tough to guess how users may interact with it. Rather than guessing, one strategy is launch quickly and early and gather real data.\", metadata={'source': '/content/blog_posts/blog.langchain.dev_benchmarking-question-answering-over-csv-data_.txt'}),\n",
              " Document(page_content='In order to do this we decided to spin up a quick demo application and put that out in the wild. We would then log actual user questions along with any feedback about the answers that they gave us. To gather feedback we added a simple \"thumps up\"/\"thumbs down\" button to the application. We would use LangSmith to monitor all the interactions and feedback, and then we would manually review the interactions and create a dataset consisting of any interesting ones. This is done easily from the LangSmith UI - there is an \"Add to Dataset\" button on all logs.', metadata={'source': '/content/blog_posts/blog.langchain.dev_benchmarking-question-answering-over-csv-data_.txt'}),\n",
              " Document(page_content=\"There's also the question of what type of data we wanted to gather. We considered two approaches: (1) let users upload their own CSV and ask questions of that, (2) fix the CSV and gather questions over that. We opted for (2) for a few reasons. First - it would make it simpler for people to play around with, likely leading to more responses. Second - it would probably make it easier to evaluate. Third - we specifically wanted to be logging and looking at user questions, and we didn't want to do this over any confidential CSV that someone might upload. However, this does have several downsides. We would have to choose a CSV to use, and this CSV may not be representative of other CSVs - both in the size and shape of the data, as well as the questions people may want to ask of it.\", metadata={'source': '/content/blog_posts/blog.langchain.dev_benchmarking-question-answering-over-csv-data_.txt'}),\n",
              " Document(page_content=\"For our example application we chose the classic Titanic dataset - a record of all passengers on the Titanic and whether the survived, often used for example data science projects. We created this simple application in Streamlit, put it out in the world, and asked people to give feedback. You can view the hosted app here, and the source code here.\\n\\nThrough this, we gathered ~400 interactions. Of those, about 200 had some form of feedback. Using LangSmith, we drilled into datapoints with bad feedback (and some with good) and manually labeled them and added them to a dataset we created. We did this until we had about 50 datapoints.\\n\\nNow it was time to improve our system! Before talking about how we improved, let's first discuss (1) what the initial system was (2) what issues it had, and (3) how we would evaluate the system to measure any improvements.\\n\\nInitial Solution\", metadata={'source': '/content/blog_posts/blog.langchain.dev_benchmarking-question-answering-over-csv-data_.txt'}),\n",
              " Document(page_content='The Titanic dataset has a mix of columns in it. Some of them are numeric (age, number of siblings, fare), some of them are categorical (station embarked, cabin) and there\\'s one text column (name).\\n\\nWhile a person\\'s name isn\\'t super text heavy, it is still text heavy enough to cause some issues. For example if a question is asked about \"John Smith\", there a bunch of variants of how that name could be represented: Mr. John Smith (title), Smith, John (order), Jon Smith (typo), John Jacob Smith (middle name), etc. This can make it tricky to filter rows exactly by name, or even do lookups. Therefor, from the start we knew we had to include some more fuzzy based functionality. However, we also guessed that people would want to ask some questions about aggregations (\"who paid the most for their fare\") or the like, and so we probably need some functionality to do that.', metadata={'source': '/content/blog_posts/blog.langchain.dev_benchmarking-question-answering-over-csv-data_.txt'}),\n",
              " Document(page_content=\"💡 Tabular data that contains text can be particularly tough to deal with, as retrieval is likely needed in some form, but pure retrieval probably isn't enough.\\n\\nRetrieval\\n\\nFor the natural language bit, we wanted to use a traditional retrieval system. We weren't going to get too fancy, so we just wanted to use a simple vectorstore and look up results based on cosine similarity with the input question.\\n\\nIn order to do this we needed to load a CSV into a vectorstore. We did this using the logic of our CSVLoader. What this does under the hood is:\\n\\nLoad each row as its own document Represent the text of each document as a list of Column: value pairs, each on their own line.\", metadata={'source': '/content/blog_posts/blog.langchain.dev_benchmarking-question-answering-over-csv-data_.txt'}),\n",
              " Document(page_content='Digging into point (2) a bit more, there\\'s a few ways you could represent a row of CSV as a document. You could represent it as JSON, as a CSV, or - as we ended up doing - a formatted piece of text. Very concretely, if you had a CSV row with the following values: {\"col1\": \"foo\", \"col2\": \"bar\"} what this ends up looking like after you format it is:\\n\\ncol1: foo col2: bar\\n\\nWhile this may not seem all that interesting, a BIG part of LLM applications is proper data engineering to communicate data to the LLM most effectively. Anecdotally, we\\'ve found this representation of tabular (and also JSON) data to be most efficient when the values could contain textual values.\\n\\nQuery Language\\n\\nAside from retrieval, we also figured people would want to ask questions that required some type of query language. For example - \"who paid the most for their fare\". There are two approaches we considered here.', metadata={'source': '/content/blog_posts/blog.langchain.dev_benchmarking-question-answering-over-csv-data_.txt'}),\n",
              " Document(page_content=\"First, we considered using a Python REPL and asking the language model to write code to help answer the user's question. This has the benefit of being very flexible. This also has the downside of maybe being TOO flexible - it could enable execution of arbitrary code.\\n\\nSecond, we considered using kork to give access to a predetermined set of functions. kork is a library that basically whitelists a set of functions that can be used. It's less general - you have to declare all functions that can be run - but it's safer.\\n\\nTo start, we went with kork . We weren't entirely sure about what people would ask, so we defined a few functions (filter, sum, contains) and gave it access to that.\\n\\nOur first solution ran retrieval and kork in parallel, and then combined the answers.\\n\\nDebugging with LangSmith\\n\\nPeople started asking questions and the feedback starting rolling in. Only about 1/3 of feedback was positive. What was going wrong? There was two main sources of errors:\\n\\nData Formatting\", metadata={'source': '/content/blog_posts/blog.langchain.dev_benchmarking-question-answering-over-csv-data_.txt'}),\n",
              " Document(page_content='A lot of the functions we wrote for kork would return a dataframe. This dataframe was then inserted into a prompt and passed to the language model. There was then a question of how that dataframe was formatted as a string to be passed to the language model.\\n\\nThis was important for answering questions like Who was in cabin C128 . The returned dataframe would have hopefully filtered to the correct row and be returning all relevant information. Before we launched the app, we tested questions like this and it was working fine. However, after we launched the app and started to look at the responses we noticed it was failing terribly at a large number of these types of questions.\\n\\nWe used LangSmith to inspect the traces to try to get a sense of what was going on. We could see that the correct query was being generated... but when that dataframe was passed into the prompt the formatting was being messed up. We expected it look something like:\\n\\nBut instead it was looking something like:', metadata={'source': '/content/blog_posts/blog.langchain.dev_benchmarking-question-answering-over-csv-data_.txt'}),\n",
              " Document(page_content=\"After some more debugging, we discovered that how a dataframe is represented as string may change depending on what platform you are on. In this case, it was being represented differently locally compared to Streamlit cloud. After some more debugging, we figured out that we could fix that inconsistency by specifying some parameters:\\n\\npd.set_option('display.max_rows', 20) pd.set_option('display.max_columns', 20)\\n\\nDoing this fixed a lot of our issues! It also shows how LangSmith can be extremely helpful in debugging LLM issues. The main parts of bringing an LLM application from prototype to production are prompt engineering and data engineering. Understand what exactly the data looks like when you are passing it to an LLM is crucial for debugging performance issues. We've heard from several users of LangSmith who have found these types of data engineering issues only after using LangSmith to inspect the exact inputs to LLMs more carefully.\", metadata={'source': '/content/blog_posts/blog.langchain.dev_benchmarking-question-answering-over-csv-data_.txt'}),\n",
              " Document(page_content=\"💡 If data is not passed to the language model in a clear way, it will make it really tricky for the language model to reason about it correcting. Using LangSmith to make sure the final text looks reasonable, and debug any data processing steps, is a great way to catch any bugs here.\\n\\nLimited kork Functionality\\n\\nIt turns out the set of functions we gave to kork was not NEARLY enough to cover the long tail of questions users would ask.\\n\\nThere are two potential fixes to this. One, we could try to add more functions to kork . Second, we could revert to using a Python REPL.\\n\\nEvaluation Setup\\n\\nSo we've now constructed our dataset of real world examples. We've also done some manual debugging and identified some areas of errors and have some ideas for how to improve. How exactly do we go about measuring whether we've improved?\", metadata={'source': '/content/blog_posts/blog.langchain.dev_benchmarking-question-answering-over-csv-data_.txt'}),\n",
              " Document(page_content='For an example of why this is non-trivial, let\\'s consider the question Who is in cabin C128 . The correct answer in the CSV is Williams-Lambert, Mr. Fletcher Fellows . But there are a LOT of ways a language model could respond that should be considered \"correct\":\\n\\nMr. Fletcher Fellows Williams-Lambert\\n\\nThe person in cabin C128 was Mr. Fletcher Fellows Williams-Lambert.\\n\\nFletcher Williams-Lambert\\n\\nMr. Williams-Lambert was in that cabin\\n\\nIn order to properly evaluate these natural language answers... we turned to a language model. We decided to use our standard qa evaluator, which takes as input:\\n\\nThe input\\n\\nThe ground truth answer\\n\\nA predicted answer\\n\\nFrom there, it formats a prompt template with those values and passes that to a language model to get back a response.', metadata={'source': '/content/blog_posts/blog.langchain.dev_benchmarking-question-answering-over-csv-data_.txt'}),\n",
              " Document(page_content=\"Even still, this is NOT perfect. For example, one of the questions we evaluated on was male to female ratio? . It's pretty unclear what the answer to that question should be. We had labelled the answer as There were 577 males and 314 females, for a ratio of 1.84 . In one test run, the language model responded The ratio of males to females in the dataframe is approximately 0.65 to 0.35. This means that there are about 65% males and 35% females . Our LLM evaluator marked that answer as INCORRECT, even though it probably likely correct.\", metadata={'source': '/content/blog_posts/blog.langchain.dev_benchmarking-question-answering-over-csv-data_.txt'}),\n",
              " Document(page_content='Does this mean there is no use for an LLM evaluator? We do not believe so. Rather, we believe that LLM evaluators are still useful. For starters, they are markedly better than other \"general\" evaluation methods we\\'ve tried. Secondly, even if occasionally correct that can be totally fine if you\\'re not treating the grades as gospel. For example - don\\'t blindly accept the LLM scores, but rather treat them as indications of where it may be worth looking. Even if you still need to do human evaluation on some data points, using LLM assisted evaluation can help guide you to the most interesting datapoint to look at.\\n\\n💡 Evaluating LLM output using LLMs is NOT perfect, but we think this is currently the best available solution and are bullish on it in the long run.\\n\\nImproved Solution\\n\\nFinally, we arrive at the exciting part of the blog. Did we manage to improve our solution? And how did we do so?\\n\\nOur final solution is:\\n\\nAn agent powered by OpenAIFunctions ( OpenAIFunctionsAgent )\\n\\n) GPT-4', metadata={'source': '/content/blog_posts/blog.langchain.dev_benchmarking-question-answering-over-csv-data_.txt'}),\n",
              " Document(page_content=\"Two tools: a Python REPL and a retriever\\n\\nA custom prompt with custom instructions on how to think about when to use the Python REPL vs the retriever\\n\\nThis provides several benefits. First, by giving it access to a Python REPL we give it the ability to do all sorts of queries and analysis. However, as we'll see in some of the comparisons below, the Python REPL can have issues when dealing with text data - in this case the Name column. That is where the retriever can come in handy.\\n\\n💡 Our final solution is an agent with two tools: a Python REPL and a retriever. This allows it to answer questions about the unstructured text, but also perform more traditional data analysis operations.\", metadata={'source': '/content/blog_posts/blog.langchain.dev_benchmarking-question-answering-over-csv-data_.txt'}),\n",
              " Document(page_content='Note that we do include some instructions in the prompt specific to the Titanic dataset. Specifically, we tell it that it should try to use the retriever for the Name column and the Python REPL for most other things. We did this because with generic wording it was having some trouble reasoning about when to use it. This does mean that comparing to generic solutions (as we do below) is a bit unfair. As a follow up, we would love to see a more generic prompt presented that does not include dataset specific logic. However, we also believe that in order to really improve the performance of your application you will likely need to use a custom prompt and NOT rely on generic defaults.', metadata={'source': '/content/blog_posts/blog.langchain.dev_benchmarking-question-answering-over-csv-data_.txt'}),\n",
              " Document(page_content=\"Now let's look at some results and compare to other methods. First, we compare to our standard Pandas Agent (using both GPT-3.5 as well as GPT-4). Next, we compare to PandasAI - one of the top open source libraries for interacting with Pandas DataFrames. A table of performance is below. Again, this is over 50 datapoints and some of the evaluations may not be 100% accurate, so we'll also present some concrete examples after the fact.\\n\\nNote: these were all run on LangSmith. We're working on making evaluation runs publicly sharable.\\n\\nThe Pandas Agent and PandasAI performed roughly the same. They struggled on questions involving people's names. For example, for the following question:\\n\\nHow many siblings does Carrie Johnston have?\\n\\nThe code generate is:\\n\\n# First, we need to find the row for Carrie Johnston carrie_johnston = df[df['Name'].str.contains('Carrie Johnston')] # Then, we can find the number of siblings she has num_siblings = carrie_johnston['SibSp'].values[0] num_siblings\", metadata={'source': '/content/blog_posts/blog.langchain.dev_benchmarking-question-answering-over-csv-data_.txt'}),\n",
              " Document(page_content='However, df[df[\\'Name\\'].str.contains(\\'Carrie Johnston\\')] does not return any rows because her name appears as Johnston, Miss. Catherine Helen \"Carrie\"\\n\\nLooking at the four example our custom agent gets wrong, we can see that a lot of the mistakes aren\\'t that bad.\\n\\nIn one case it filters based on age (the ground truth answer we added had no filtering - maybe there should have been?)\\n\\nIn another case it stops listing after 10 - this is actually because the DataFrame when printed out didn\\'t actually show the whole contents.\\n\\nIn a third case it just has a different interpretation of how to respond (but the facts look correct)\\n\\nAnd finally, it messes up because it uses the retriever to search for names, and the retriever is limited to four responses.\\n\\nConclusion', metadata={'source': '/content/blog_posts/blog.langchain.dev_benchmarking-question-answering-over-csv-data_.txt'}),\n",
              " Document(page_content=\"We're pretty satisfied with the final solution we arrived at - and most of the feedback had been positive as well. We're also pretty happy with the dataset we've put together and think it can be useful in evaluating these types of applications.\\n\\nAt the same time, we recognize that there is always room for improvements - on both fronts. The dataset can be improved/added to, the evaluators can likely be improved, and we're especially excited to see more solutions to this problem of question-answering over CSV data!\\n\\nWe've open-sourced everything - the app we used to gather feedback, the dataset, the eval script - at this repo.\", metadata={'source': '/content/blog_posts/blog.langchain.dev_benchmarking-question-answering-over-csv-data_.txt'}),\n",
              " Document(page_content='URL: https://blog.langchain.dev/chat-loaders-finetune-a-chatmodel-in-your-voice/\\nTitle: Chat Loaders: Fine-tune a ChatModel in your Voice\\n\\nSummary\\n\\nWe are adding a new integration type, ChatLoaders, to make it easier to fine-tune models on your own unique writing style. These utilities help convert data from popular messaging platforms to chat messages compatible with fine-tuning formats like that supported by OpenAI.\\n\\nThank you to Greg Kamradt for Misbah Syed for their thought leadership on this.\\n\\nImportant Links:\\n\\nContext\\n\\nOn Tuesday, OpenAI announced improved fine-tuning support, extending the service to larger chat models like GPT-3.5-turbo. This enables anyone to customize these larger, more capable models for their own use cases. They also teased support for fine-tuning GPT-4 later this year.\\n\\nWhile fine-tuning is typically not advised for teaching an LLM substantially new knowledge or for factual recall; it is good for style transfer.', metadata={'source': '/content/blog_posts/blog.langchain.dev_chat-loaders-finetune-a-chatmodel-in-your-voice_.txt'}),\n",
              " Document(page_content='We\\'ve had a lot of community members ask about the best ways to get ChatGPT to respond \"in your own voice\" - fine-tuning is an excellent way to do so!\\n\\nGreat people on Twitter like Greg Kamdrat have also been bullish on this use case:\\n\\nSetting the tone/style of the output is top of the list for me\\n\\nFine-tuning as a service to businesses that matches their tone\\n\\nCurrently investigating...will report back https://t.co/235WSJzxet pic.twitter.com/KDzMrdqccv — Greg Kamradt (@GregKamradt) August 22, 2023\\n\\nFine-tuning on your communications could be useful for a variety of applications, such as responding to customers in your brand\\'s voice, generating content that is more aware of your team\\'s unique jargon, chatting reliably in a target language, or just for fun!', metadata={'source': '/content/blog_posts/blog.langchain.dev_chat-loaders-finetune-a-chatmodel-in-your-voice_.txt'}),\n",
              " Document(page_content=\"Why is this better than direct instructions? Style and tone can be hard to describe! Most of us don't write like ChatGPT, and it can sometimes be frustratingly difficult to get the LLM to consistently respond in a particular voice (especially over longer conversations).\\n\\nWhy is this better than few-shot examples? It can be challenging to capture your voice in only a few concise snippets! Fine-tuning lets you provide a larger number of examples the model can learn from without having to see them every time you want to query the model.\\n\\nChatLoaders\\n\\nAt LangChain, we want to make it as easy as possible for you to take advantage of this improved fine-tuning support. To make it simple to adapt a model to your voice, we're adding a new integration type: ChatLoaders .\", metadata={'source': '/content/blog_posts/blog.langchain.dev_chat-loaders-finetune-a-chatmodel-in-your-voice_.txt'}),\n",
              " Document(page_content=\"These utilities take data exported from popular messaging platforms and convert them to LangChain message objects, which you can then easily convert platform-agnostic message formats, such as OpenAI, Llama 2, and others. This training data can be used directly for fine-tuning a model.\\n\\nWe've added loaders for the following popular messaging platforms so far:\\n\\nFacebook Messenger\\n\\nSlack\\n\\nTelegram\\n\\nWhatsApp\\n\\nWe have also added a recipe on how to do so for Discord and Twitter (using Apify) and plan to integrate additional chat loaders in the near future. If you have a favorite messaging platform you'd like to support, we'd love to help you land a PR!\\n\\nTo get you started, we've added an end-to-end example notebook to the LangChain documentation showing how to fine-tune gpt-3.5-turbo (the model behind ChatGPT) on an example set of Facebook messages.\\n\\n❗ Please ensure all participants of your conversations support the decision to train a model on the chat data before proceeding.\", metadata={'source': '/content/blog_posts/blog.langchain.dev_chat-loaders-finetune-a-chatmodel-in-your-voice_.txt'}),\n",
              " Document(page_content='Once you have your fine-tuned model, you can use the model name directly in LangChain\\'s ChatOpenAI class:\\n\\nfrom langchain.chat_models import ChatOpenAI llm = ChatOpenAI(model=\"ft:gpt-3.5-turbo-0613:{openaiOrg}::{modelId}\") llm.predict(\"What classes are you taking this year?\")\\n\\nThen you can plug this into any other LangChain component!\\n\\nEnd-to-End Example\\n\\nWe\\'ve also created an end-to-end example of finetuning a model based on Elon Musk\\'s tweets. This uses Apify to load data. Note that it\\'s less than 100 examples so results may not be the most amazing they could be.\\n\\nWe open-sourced this example at the GitHub repo here. We also hosted it on Streamlit app so you can easily play around with it here.\\n\\nWebinar\\n\\nThere is a lot more to discuss on this topic. What types of messages are best for finetuning? What others sources of data exist for this? How many points do you need?\\n\\nWe\\'ll be discussing this and more next week in a webinar with Greg Kamradt. Come join!\\n\\nConclusion', metadata={'source': '/content/blog_posts/blog.langchain.dev_chat-loaders-finetune-a-chatmodel-in-your-voice_.txt'}),\n",
              " Document(page_content=\"We're excited to see all the creative applications fine-tuning unlocks. We have implemented a few ChatLoaders already, but we need your help to make it easier to create your own personalized model. Help us create more ChatLoaders!\", metadata={'source': '/content/blog_posts/blog.langchain.dev_chat-loaders-finetune-a-chatmodel-in-your-voice_.txt'})]"
            ]
          },
          "metadata": {},
          "execution_count": 49
        }
      ]
    },
    {
      "cell_type": "code",
      "source": [],
      "metadata": {
        "id": "g3TTMYzSdbZd"
      },
      "execution_count": null,
      "outputs": []
    },
    {
      "cell_type": "code",
      "source": [
        "prompt_template = \"\"\"Please answer the user's question as related to Large Language Models\n",
        "Question: {question}\n",
        "Answer:\"\"\"\n",
        "\n",
        "prompt = PromptTemplate(input_variables=[\"question\"], template=prompt_template)\n",
        "\n",
        "llm_chain = LLMChain(llm=llm, prompt=prompt)"
      ],
      "metadata": {
        "id": "22IRw0uHdb_J"
      },
      "execution_count": null,
      "outputs": []
    },
    {
      "cell_type": "code",
      "source": [
        "embeddings = HypotheticalDocumentEmbedder(\n",
        "    llm_chain=llm_chain,\n",
        "    base_embeddings=bge_embeddings\n",
        ")"
      ],
      "metadata": {
        "id": "A-xmDGJEdb_K"
      },
      "execution_count": null,
      "outputs": []
    },
    {
      "cell_type": "code",
      "source": [
        "docsearch = Chroma.from_documents(texts, embeddings)\n",
        "\n",
        "query = \"What are chat loaders?\"\n",
        "docs = docsearch.similarity_search(query)"
      ],
      "metadata": {
        "id": "fVwwG28ki5-A",
        "colab": {
          "base_uri": "https://localhost:8080/"
        },
        "outputId": "bf1f060c-6eeb-4c15-d0f7-377c22db0ccc"
      },
      "execution_count": null,
      "outputs": [
        {
          "output_type": "stream",
          "name": "stdout",
          "text": [
            "\u001b[32;1m\u001b[1;3m[llm/start]\u001b[0m \u001b[1m[1:llm:OpenAI] Entering LLM run with input:\n",
            "\u001b[0m{\n",
            "  \"prompts\": [\n",
            "    \"Please answer the user's question as related to Large Language Models\\nQuestion: What are chat loaders?\\nAnswer:\"\n",
            "  ]\n",
            "}\n",
            "\u001b[36;1m\u001b[1;3m[llm/end]\u001b[0m \u001b[1m[1:llm:OpenAI] [1.17s] Exiting LLM run with output:\n",
            "\u001b[0m{\n",
            "  \"generations\": [\n",
            "    [\n",
            "      {\n",
            "        \"text\": \" Chat loaders are software tools used to load large language models into chatbot applications. They help to optimize the performance of the chatbot by enabling it to access large language models quickly and efficiently.\",\n",
            "        \"generation_info\": {\n",
            "          \"finish_reason\": \"stop\",\n",
            "          \"logprobs\": null\n",
            "        }\n",
            "      }\n",
            "    ]\n",
            "  ],\n",
            "  \"llm_output\": {\n",
            "    \"token_usage\": {\n",
            "      \"prompt_tokens\": 24,\n",
            "      \"completion_tokens\": 39,\n",
            "      \"total_tokens\": 63\n",
            "    },\n",
            "    \"model_name\": \"text-davinci-003\"\n",
            "  },\n",
            "  \"run\": null\n",
            "}\n"
          ]
        }
      ]
    },
    {
      "cell_type": "code",
      "source": [
        "print(docs[0].page_content)"
      ],
      "metadata": {
        "id": "0pNCA7hxjK4B",
        "colab": {
          "base_uri": "https://localhost:8080/"
        },
        "outputId": "81206283-7c4d-42e3-c866-4ba78e464c74"
      },
      "execution_count": null,
      "outputs": [
        {
          "output_type": "stream",
          "name": "stdout",
          "text": [
            "URL: https://blog.langchain.dev/chat-loaders-finetune-a-chatmodel-in-your-voice/\n",
            "Title: Chat Loaders: Fine-tune a ChatModel in your Voice\n",
            "\n",
            "Summary\n",
            "\n",
            "We are adding a new integration type, ChatLoaders, to make it easier to fine-tune models on your own unique writing style. These utilities help convert data from popular messaging platforms to chat messages compatible with fine-tuning formats like that supported by OpenAI.\n",
            "\n",
            "Thank you to Greg Kamradt for Misbah Syed for their thought leadership on this.\n",
            "\n",
            "Important Links:\n",
            "\n",
            "Context\n",
            "\n",
            "On Tuesday, OpenAI announced improved fine-tuning support, extending the service to larger chat models like GPT-3.5-turbo. This enables anyone to customize these larger, more capable models for their own use cases. They also teased support for fine-tuning GPT-4 later this year.\n",
            "\n",
            "While fine-tuning is typically not advised for teaching an LLM substantially new knowledge or for factual recall; it is good for style transfer.\n"
          ]
        }
      ]
    },
    {
      "cell_type": "code",
      "source": [],
      "metadata": {
        "id": "y5Dht92NX1Gt"
      },
      "execution_count": null,
      "outputs": []
    }
  ]
}